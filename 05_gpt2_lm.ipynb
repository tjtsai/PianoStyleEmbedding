{
 "cells": [
  {
   "attachments": {},
   "cell_type": "markdown",
   "metadata": {},
   "source": [
    "# Training a GPT-2 Language Model"
   ]
  },
  {
   "attachments": {},
   "cell_type": "markdown",
   "metadata": {},
   "source": [
    "In this notebook we train a GPT-2 language model on the IMSLP and/or target data.  This code can be used to train two different language models: (a) one that is trained on target data, and (b) one that is trained on IMSLP data and finetuned on target data.  For (a), you can stop at the end of the section entitled \"Train Language Model\"."
   ]
  },
  {
   "cell_type": "code",
   "execution_count": 2,
   "metadata": {},
   "outputs": [],
   "source": [
    "%matplotlib inline"
   ]
  },
  {
   "cell_type": "code",
   "execution_count": 1,
   "metadata": {},
   "outputs": [
    {
     "name": "stderr",
     "output_type": "stream",
     "text": [
      "/home/kdey/ttmp/micromamba/envs/pse/lib/python3.7/site-packages/tqdm/auto.py:21: TqdmWarning: IProgress not found. Please update jupyter and ipywidgets. See https://ipywidgets.readthedocs.io/en/stable/user_install.html\n",
      "  from .autonotebook import tqdm as notebook_tqdm\n",
      "/home/kdey/ttmp/micromamba/envs/pse/lib/python3.7/site-packages/tensorflow/python/framework/dtypes.py:516: FutureWarning: Passing (type, 1) or '1type' as a synonym of type is deprecated; in a future version of numpy, it will be understood as (type, (1,)) / '(1,)type'.\n",
      "  _np_qint8 = np.dtype([(\"qint8\", np.int8, 1)])\n",
      "/home/kdey/ttmp/micromamba/envs/pse/lib/python3.7/site-packages/tensorflow/python/framework/dtypes.py:517: FutureWarning: Passing (type, 1) or '1type' as a synonym of type is deprecated; in a future version of numpy, it will be understood as (type, (1,)) / '(1,)type'.\n",
      "  _np_quint8 = np.dtype([(\"quint8\", np.uint8, 1)])\n",
      "/home/kdey/ttmp/micromamba/envs/pse/lib/python3.7/site-packages/tensorflow/python/framework/dtypes.py:518: FutureWarning: Passing (type, 1) or '1type' as a synonym of type is deprecated; in a future version of numpy, it will be understood as (type, (1,)) / '(1,)type'.\n",
      "  _np_qint16 = np.dtype([(\"qint16\", np.int16, 1)])\n",
      "/home/kdey/ttmp/micromamba/envs/pse/lib/python3.7/site-packages/tensorflow/python/framework/dtypes.py:519: FutureWarning: Passing (type, 1) or '1type' as a synonym of type is deprecated; in a future version of numpy, it will be understood as (type, (1,)) / '(1,)type'.\n",
      "  _np_quint16 = np.dtype([(\"quint16\", np.uint16, 1)])\n",
      "/home/kdey/ttmp/micromamba/envs/pse/lib/python3.7/site-packages/tensorflow/python/framework/dtypes.py:520: FutureWarning: Passing (type, 1) or '1type' as a synonym of type is deprecated; in a future version of numpy, it will be understood as (type, (1,)) / '(1,)type'.\n",
      "  _np_qint32 = np.dtype([(\"qint32\", np.int32, 1)])\n",
      "/home/kdey/ttmp/micromamba/envs/pse/lib/python3.7/site-packages/tensorflow/python/framework/dtypes.py:525: FutureWarning: Passing (type, 1) or '1type' as a synonym of type is deprecated; in a future version of numpy, it will be understood as (type, (1,)) / '(1,)type'.\n",
      "  np_resource = np.dtype([(\"resource\", np.ubyte, 1)])\n",
      "/home/kdey/ttmp/micromamba/envs/pse/lib/python3.7/site-packages/tensorboard/compat/tensorflow_stub/dtypes.py:541: FutureWarning: Passing (type, 1) or '1type' as a synonym of type is deprecated; in a future version of numpy, it will be understood as (type, (1,)) / '(1,)type'.\n",
      "  _np_qint8 = np.dtype([(\"qint8\", np.int8, 1)])\n",
      "/home/kdey/ttmp/micromamba/envs/pse/lib/python3.7/site-packages/tensorboard/compat/tensorflow_stub/dtypes.py:542: FutureWarning: Passing (type, 1) or '1type' as a synonym of type is deprecated; in a future version of numpy, it will be understood as (type, (1,)) / '(1,)type'.\n",
      "  _np_quint8 = np.dtype([(\"quint8\", np.uint8, 1)])\n",
      "/home/kdey/ttmp/micromamba/envs/pse/lib/python3.7/site-packages/tensorboard/compat/tensorflow_stub/dtypes.py:543: FutureWarning: Passing (type, 1) or '1type' as a synonym of type is deprecated; in a future version of numpy, it will be understood as (type, (1,)) / '(1,)type'.\n",
      "  _np_qint16 = np.dtype([(\"qint16\", np.int16, 1)])\n",
      "/home/kdey/ttmp/micromamba/envs/pse/lib/python3.7/site-packages/tensorboard/compat/tensorflow_stub/dtypes.py:544: FutureWarning: Passing (type, 1) or '1type' as a synonym of type is deprecated; in a future version of numpy, it will be understood as (type, (1,)) / '(1,)type'.\n",
      "  _np_quint16 = np.dtype([(\"quint16\", np.uint16, 1)])\n",
      "/home/kdey/ttmp/micromamba/envs/pse/lib/python3.7/site-packages/tensorboard/compat/tensorflow_stub/dtypes.py:545: FutureWarning: Passing (type, 1) or '1type' as a synonym of type is deprecated; in a future version of numpy, it will be understood as (type, (1,)) / '(1,)type'.\n",
      "  _np_qint32 = np.dtype([(\"qint32\", np.int32, 1)])\n",
      "/home/kdey/ttmp/micromamba/envs/pse/lib/python3.7/site-packages/tensorboard/compat/tensorflow_stub/dtypes.py:550: FutureWarning: Passing (type, 1) or '1type' as a synonym of type is deprecated; in a future version of numpy, it will be understood as (type, (1,)) / '(1,)type'.\n",
      "  np_resource = np.dtype([(\"resource\", np.ubyte, 1)])\n"
     ]
    }
   ],
   "source": [
    "from pathlib import Path\n",
    "import json\n",
    "from train_utils import plotLosses\n",
    "from fastai.text import Config"
   ]
  },
  {
   "cell_type": "code",
   "execution_count": 2,
   "metadata": {},
   "outputs": [],
   "source": [
    "bpe_path = Config.data_path()/'bscore_lm/bpe_data'\n",
    "bpe_path.mkdir(exist_ok=True, parents=True)"
   ]
  },
  {
   "attachments": {},
   "cell_type": "markdown",
   "metadata": {},
   "source": [
    "### Train Language Model"
   ]
  },
  {
   "cell_type": "code",
   "execution_count": 3,
   "metadata": {},
   "outputs": [],
   "source": [
    "data_type = 'target' # 'target' or 'imslp'"
   ]
  },
  {
   "cell_type": "code",
   "execution_count": 4,
   "metadata": {},
   "outputs": [],
   "source": [
    "lm_train_file = bpe_path/f'bpe_lm_{data_type}_train.txt'\n",
    "lm_valid_file = bpe_path/f'bpe_lm_{data_type}_valid.txt'\n",
    "tok_path = bpe_path/f'tokenizer_{data_type}'\n",
    "output_model_path = bpe_path/f'models/gpt2_train-{data_type}_lm'"
   ]
  },
  {
   "cell_type": "code",
   "execution_count": 5,
   "metadata": {},
   "outputs": [],
   "source": [
    "# changes from defaults:\n",
    "# vocab_size: 50257 -> 30000\n",
    "# n_positions: 1024 -> 514\n",
    "# n_ctx: 1024 -> 514\n",
    "# n_layer: 12 -> 6\n",
    "config = {\n",
    "    \"architectures\": [\n",
    "        \"GPT2LMHeadModel\"\n",
    "    ],\n",
    "    \"vocab_size\": 30000,\n",
    "    \"n_positions\": 514,\n",
    "    \"n_ctx\": 514,\n",
    "    \"n_embd\": 768,\n",
    "    \"n_layer\": 6,\n",
    "    \"n_head\": 12,\n",
    "    \"resid_pdrop\": 0.1,\n",
    "    \"embd_pdrop\": 0.1,\n",
    "    \"attn_pdrop\": 0.1,\n",
    "    \"layer_norm_epsilon\": 1e-5,\n",
    "    \"initializer_range\": 0.02,\n",
    "    \"summary_type\": \"cls_index\",\n",
    "    \"summary_use_proj\": True,\n",
    "    \"summary_activation\": None,\n",
    "    \"summary_proj_to_labels\": True,\n",
    "    \"summary_first_dropout\": 0.1\n",
    "    }"
   ]
  },
  {
   "cell_type": "code",
   "execution_count": 6,
   "metadata": {},
   "outputs": [],
   "source": [
    "with open(f\"{tok_path}/config.json\", 'w') as fp:\n",
    "    json.dump(config, fp)"
   ]
  },
  {
   "cell_type": "code",
   "execution_count": 7,
   "metadata": {},
   "outputs": [
    {
     "name": "stdout",
     "output_type": "stream",
     "text": [
      "/home/kdey/.fastai/data/bscore_lm/bpe_data/bpe_lm_target_train.txt /home/kdey/.fastai/data/bscore_lm/bpe_data/bpe_lm_target_valid.txt\n"
     ]
    }
   ],
   "source": [
    "cmd = f\"\"\"\n",
    "python ./run_language_modeling.py\n",
    "--train_data_file {lm_train_file}\n",
    "--output_dir {output_model_path}\n",
    "--model_type gpt2\n",
    "--eval_data_file {lm_valid_file}\n",
    "--line_by_line\n",
    "--config_name {tok_path}\n",
    "--tokenizer_name {tok_path}\n",
    "--do_train\n",
    "--do_eval\n",
    "--evaluate_during_training\n",
    "--per_gpu_train_batch_size 16\n",
    "--per_gpu_eval_batch_size 16\n",
    "--learning_rate 1e-4\n",
    "--num_train_epochs 60\n",
    "--logging_steps 2000\n",
    "--save_steps 2000\n",
    "--seed 42\n",
    "--overwrite_output_dir\n",
    "\"\"\".replace(\"\\n\", \" \")\n",
    "#--save_total_limit 2\n",
    "#--should_continue\n",
    "# target data: batch size 16, 204 steps per epoch, 12 epochs\n",
    "# imslp data: batch size 16, 7180 steps per epoch, ? epochs\n",
    "print(lm_train_file, lm_valid_file)"
   ]
  },
  {
   "cell_type": "code",
   "execution_count": 10,
   "metadata": {},
   "outputs": [],
   "source": [
    "!echo {cmd} > train_gpt.sh"
   ]
  },
  {
   "cell_type": "code",
   "execution_count": 11,
   "metadata": {},
   "outputs": [],
   "source": [
    "# you may need to run this in a bash shell with correct virtual environment\n",
    "# you might also need to run `chmod +x train_gpt.sh` to make the script executable\n",
    "#!./train_gpt.sh"
   ]
  },
  {
   "cell_type": "code",
   "execution_count": 10,
   "metadata": {},
   "outputs": [
    {
     "data": {
      "image/png": "[encoded data removed]",
      "text/plain": [
       "<Figure size 432x288 with 1 Axes>"
      ]
     },
     "metadata": {
      "needs_background": "light"
     },
     "output_type": "display_data"
    }
   ],
   "source": [
    "plotLosses(output_model_path/'eval_results.txt')"
   ]
  },
  {
   "attachments": {},
   "cell_type": "markdown",
   "metadata": {},
   "source": [
    "### Finetune Language Model"
   ]
  },
  {
   "attachments": {},
   "cell_type": "markdown",
   "metadata": {},
   "source": [
    "This section only applies for the LM trained on IMSLP data."
   ]
  },
  {
   "cell_type": "code",
   "execution_count": 11,
   "metadata": {},
   "outputs": [],
   "source": [
    "finetuned_models_path = bpe_path/'models/gpt2_train-imslp_finetune-target_lm'\n",
    "lm_train_file = bpe_path/'bpe_lm_target_train.txt'\n",
    "lm_valid_file = bpe_path/'bpe_lm_target_valid.txt'"
   ]
  },
  {
   "cell_type": "code",
   "execution_count": 12,
   "metadata": {},
   "outputs": [],
   "source": [
    "cmd = f\"\"\"\n",
    "python ./run_language_modeling.py\n",
    "--train_data_file {lm_train_file}\n",
    "--output_dir {finetuned_models_path}\n",
    "--model_type gpt2\n",
    "--eval_data_file {lm_valid_file}\n",
    "--line_by_line\n",
    "--model_name_or_path {output_model_path}\n",
    "--tokenizer_name {output_model_path}\n",
    "--do_train\n",
    "--do_eval\n",
    "--evaluate_during_training\n",
    "--per_gpu_train_batch_size 16\n",
    "--per_gpu_eval_batch_size 16\n",
    "--learning_rate 5e-5\n",
    "--num_train_epochs 12\n",
    "--logging_steps 204\n",
    "--save_steps 204\n",
    "--seed 42\n",
    "--overwrite_output_dir\n",
    "\"\"\".replace(\"\\n\", \" \")\n",
    "#--save_total_limit 2\n",
    "#--should_continue"
   ]
  },
  {
   "cell_type": "code",
   "execution_count": 13,
   "metadata": {},
   "outputs": [],
   "source": [
    "!echo {cmd} > train_lm.sh"
   ]
  },
  {
   "cell_type": "code",
   "execution_count": null,
   "metadata": {},
   "outputs": [],
   "source": [
    "# you may need to run this in a bash shell with correct virtual environment\n",
    "# you might also need to run `chmod +x train_gpt.sh` to make the script executable\n",
    "#!./train_gpt.sh"
   ]
  },
  {
   "cell_type": "code",
   "execution_count": 14,
   "metadata": {},
   "outputs": [
    {
     "data": {
      "image/png": "[encoded data removed]",
      "text/plain": [
       "<Figure size 432x288 with 1 Axes>"
      ]
     },
     "metadata": {
      "needs_background": "light"
     },
     "output_type": "display_data"
    }
   ],
   "source": [
    "plotLosses(finetuned_models_path/'eval_results.txt')"
   ]
  }
 ],
 "metadata": {
  "kernelspec": {
   "display_name": "Python 3",
   "language": "python",
   "name": "python3"
  },
  "language_info": {
   "codemirror_mode": {
    "name": "ipython",
    "version": 3
   },
   "file_extension": ".py",
   "mimetype": "text/x-python",
   "name": "python",
   "nbconvert_exporter": "python",
   "pygments_lexer": "ipython3",
   "version": "3.7.12"
  },
  "toc": {
   "base_numbering": 1,
   "nav_menu": {},
   "number_sections": false,
   "sideBar": true,
   "skip_h1_title": true,
   "title_cell": "Table of Contents",
   "title_sidebar": "Contents",
   "toc_cell": false,
   "toc_position": {},
   "toc_section_display": true,
   "toc_window_display": false
  }
 },
 "nbformat": 4,
 "nbformat_minor": 2
}
