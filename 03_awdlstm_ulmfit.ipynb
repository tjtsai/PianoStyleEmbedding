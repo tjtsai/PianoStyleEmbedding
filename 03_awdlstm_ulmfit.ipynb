{
 "cells": [
  {
   "attachments": {},
   "cell_type": "markdown",
   "id": "ca5bef7f",
   "metadata": {
    "papermill": {
     "duration": 0.017127,
     "end_time": "2023-06-09T21:54:02.207792",
     "exception": false,
     "start_time": "2023-06-09T21:54:02.190665",
     "status": "completed"
    },
    "tags": []
   },
   "source": [
    "# AWD-LSTM (ULMFit)"
   ]
  },
  {
   "attachments": {},
   "cell_type": "markdown",
   "id": "4ca74be6",
   "metadata": {
    "papermill": {
     "duration": 0.006988,
     "end_time": "2023-06-09T21:54:02.222093",
     "exception": false,
     "start_time": "2023-06-09T21:54:02.215105",
     "status": "completed"
    },
    "tags": []
   },
   "source": [
    "In this notebook we train an AWD-LSTM model for the proxy task with language model pretraining on IMSLP and language model fine-tuning on the target data.  This notebook has been adapted from the fast.ai [ULMFit tutorial](https://github.com/fastai/course-nlp/blob/master/nn-vietnamese.ipynb)."
   ]
  },
  {
   "cell_type": "code",
   "execution_count": 1,
   "id": "36d620a3",
   "metadata": {
    "execution": {
     "iopub.execute_input": "2023-06-09T21:54:02.238169Z",
     "iopub.status.busy": "2023-06-09T21:54:02.237449Z",
     "iopub.status.idle": "2023-06-09T21:54:04.591920Z",
     "shell.execute_reply": "2023-06-09T21:54:04.590392Z"
    },
    "papermill": {
     "duration": 2.366696,
     "end_time": "2023-06-09T21:54:04.595690",
     "exception": false,
     "start_time": "2023-06-09T21:54:02.228994",
     "status": "completed"
    },
    "tags": []
   },
   "outputs": [
    {
     "name": "stderr",
     "output_type": "stream",
     "text": [
      "/home/kdey/micromamba/envs/pse/lib/python3.7/site-packages/tqdm/auto.py:21: TqdmWarning: IProgress not found. Please update jupyter and ipywidgets. See https://ipywidgets.readthedocs.io/en/stable/user_install.html\n",
      "  from .autonotebook import tqdm as notebook_tqdm\n"
     ]
    }
   ],
   "source": [
    "%reload_ext autoreload\n",
    "%autoreload 2\n",
    "%matplotlib inline\n",
    "\n",
    "from fastai import *\n",
    "from fastai.text import *\n",
    "import glob\n",
    "import eval_models"
   ]
  },
  {
   "cell_type": "code",
   "execution_count": 2,
   "id": "d8263141",
   "metadata": {
    "execution": {
     "iopub.execute_input": "2023-06-09T21:54:04.619086Z",
     "iopub.status.busy": "2023-06-09T21:54:04.618136Z",
     "iopub.status.idle": "2023-06-09T21:54:04.648693Z",
     "shell.execute_reply": "2023-06-09T21:54:04.647630Z"
    },
    "papermill": {
     "duration": 0.044206,
     "end_time": "2023-06-09T21:54:04.652025",
     "exception": false,
     "start_time": "2023-06-09T21:54:04.607819",
     "status": "completed"
    },
    "tags": []
   },
   "outputs": [],
   "source": [
    "bs=48"
   ]
  },
  {
   "cell_type": "code",
   "execution_count": 3,
   "id": "f4de8f3e",
   "metadata": {
    "execution": {
     "iopub.execute_input": "2023-06-09T21:54:04.675154Z",
     "iopub.status.busy": "2023-06-09T21:54:04.674672Z",
     "iopub.status.idle": "2023-06-09T21:54:04.706180Z",
     "shell.execute_reply": "2023-06-09T21:54:04.705106Z"
    },
    "papermill": {
     "duration": 0.045807,
     "end_time": "2023-06-09T21:54:04.709541",
     "exception": false,
     "start_time": "2023-06-09T21:54:04.663734",
     "status": "completed"
    },
    "tags": []
   },
   "outputs": [],
   "source": [
    "torch.cuda.set_device(0)"
   ]
  },
  {
   "cell_type": "code",
   "execution_count": 4,
   "id": "bcd265f3",
   "metadata": {
    "execution": {
     "iopub.execute_input": "2023-06-09T21:54:04.731777Z",
     "iopub.status.busy": "2023-06-09T21:54:04.731174Z",
     "iopub.status.idle": "2023-06-09T21:54:04.764884Z",
     "shell.execute_reply": "2023-06-09T21:54:04.763676Z"
    },
    "papermill": {
     "duration": 0.046818,
     "end_time": "2023-06-09T21:54:04.767991",
     "exception": false,
     "start_time": "2023-06-09T21:54:04.721173",
     "status": "completed"
    },
    "tags": []
   },
   "outputs": [],
   "source": [
    "data_path = Config.data_path()"
   ]
  },
  {
   "cell_type": "code",
   "execution_count": 5,
   "id": "1520bdd1",
   "metadata": {
    "execution": {
     "iopub.execute_input": "2023-06-09T21:54:04.793415Z",
     "iopub.status.busy": "2023-06-09T21:54:04.792677Z",
     "iopub.status.idle": "2023-06-09T21:54:04.825264Z",
     "shell.execute_reply": "2023-06-09T21:54:04.824047Z"
    },
    "papermill": {
     "duration": 0.046481,
     "end_time": "2023-06-09T21:54:04.828683",
     "exception": false,
     "start_time": "2023-06-09T21:54:04.782202",
     "status": "completed"
    },
    "tags": []
   },
   "outputs": [],
   "source": [
    "name = 'bscore_lm'\n",
    "path = data_path/name\n",
    "path.mkdir(exist_ok=True, parents=True)"
   ]
  },
  {
   "attachments": {},
   "cell_type": "markdown",
   "id": "fe778c9d",
   "metadata": {
    "heading_collapsed": true,
    "papermill": {
     "duration": 0.008682,
     "end_time": "2023-06-09T21:54:04.851534",
     "exception": false,
     "start_time": "2023-06-09T21:54:04.842852",
     "status": "completed"
    },
    "tags": []
   },
   "source": [
    "### IMSLP Language Model"
   ]
  },
  {
   "cell_type": "code",
   "execution_count": 6,
   "id": "257d7569",
   "metadata": {
    "execution": {
     "iopub.execute_input": "2023-06-09T21:54:04.871337Z",
     "iopub.status.busy": "2023-06-09T21:54:04.870532Z",
     "iopub.status.idle": "2023-06-09T21:54:06.595893Z",
     "shell.execute_reply": "2023-06-09T21:54:06.593262Z"
    },
    "hidden": true,
    "papermill": {
     "duration": 1.739901,
     "end_time": "2023-06-09T21:54:06.600046",
     "exception": false,
     "start_time": "2023-06-09T21:54:04.860145",
     "status": "completed"
    },
    "tags": []
   },
   "outputs": [],
   "source": [
    "data = load_data(path, 'lm_imslp_databunch', bs=bs)"
   ]
  },
  {
   "cell_type": "code",
   "execution_count": 7,
   "id": "ca91bf65",
   "metadata": {
    "execution": {
     "iopub.execute_input": "2023-06-09T21:54:06.634763Z",
     "iopub.status.busy": "2023-06-09T21:54:06.633915Z",
     "iopub.status.idle": "2023-06-09T21:54:09.805623Z",
     "shell.execute_reply": "2023-06-09T21:54:09.804501Z"
    },
    "hidden": true,
    "papermill": {
     "duration": 3.194083,
     "end_time": "2023-06-09T21:54:09.809609",
     "exception": false,
     "start_time": "2023-06-09T21:54:06.615526",
     "status": "completed"
    },
    "scrolled": false,
    "tags": []
   },
   "outputs": [],
   "source": [
    "learn = language_model_learner(data, AWD_LSTM, drop_mult=0.5, pretrained=False)"
   ]
  },
  {
   "cell_type": "code",
   "execution_count": 8,
   "id": "c88d5820",
   "metadata": {
    "execution": {
     "iopub.execute_input": "2023-06-09T21:54:09.832543Z",
     "iopub.status.busy": "2023-06-09T21:54:09.831982Z",
     "iopub.status.idle": "2023-06-09T21:54:17.944333Z",
     "shell.execute_reply": "2023-06-09T21:54:17.943481Z"
    },
    "papermill": {
     "duration": 8.124866,
     "end_time": "2023-06-09T21:54:17.948156",
     "exception": false,
     "start_time": "2023-06-09T21:54:09.823290",
     "status": "completed"
    },
    "tags": []
   },
   "outputs": [
    {
     "data": {
      "text/html": [
       "\n",
       "<style>\n",
       "    /* Turns off some styling */\n",
       "    progress {\n",
       "        /* gets rid of default border in Firefox and Opera. */\n",
       "        border: none;\n",
       "        /* Needs to be in here for Safari polyfill so background images work as expected. */\n",
       "        background-size: auto;\n",
       "    }\n",
       "    progress:not([value]), progress:not([value])::-webkit-progress-bar {\n",
       "        background: repeating-linear-gradient(45deg, #7e7e7e, #7e7e7e 10px, #5c5c5c 10px, #5c5c5c 20px);\n",
       "    }\n",
       "    .progress-bar-interrupted, .progress-bar-interrupted::-webkit-progress-bar {\n",
       "        background: #F44336;\n",
       "    }\n",
       "</style>\n"
      ],
      "text/plain": [
       "<IPython.core.display.HTML object>"
      ]
     },
     "metadata": {},
     "output_type": "display_data"
    },
    {
     "data": {
      "text/html": [
       "\n",
       "    <div>\n",
       "      <progress value='0' class='' max='1' style='width:300px; height:20px; vertical-align: middle;'></progress>\n",
       "      0.00% [0/1 00:00&lt;?]\n",
       "    </div>\n",
       "    \n",
       "<table border=\"1\" class=\"dataframe\">\n",
       "  <thead>\n",
       "    <tr style=\"text-align: left;\">\n",
       "      <th>epoch</th>\n",
       "      <th>train_loss</th>\n",
       "      <th>valid_loss</th>\n",
       "      <th>accuracy</th>\n",
       "      <th>time</th>\n",
       "    </tr>\n",
       "  </thead>\n",
       "  <tbody>\n",
       "  </tbody>\n",
       "</table><p>\n",
       "\n",
       "    <div>\n",
       "      <progress value='92' class='' max='13141' style='width:300px; height:20px; vertical-align: middle;'></progress>\n",
       "      0.70% [92/13141 00:06&lt;16:19 34.6472]\n",
       "    </div>\n",
       "    "
      ],
      "text/plain": [
       "<IPython.core.display.HTML object>"
      ]
     },
     "metadata": {},
     "output_type": "display_data"
    },
    {
     "name": "stdout",
     "output_type": "stream",
     "text": [
      "LR Finder is complete, type {learner_name}.recorder.plot() to see the graph.\n"
     ]
    }
   ],
   "source": [
    "learn.lr_find()"
   ]
  },
  {
   "cell_type": "code",
   "execution_count": 9,
   "id": "549d3ff3",
   "metadata": {
    "execution": {
     "iopub.execute_input": "2023-06-09T21:54:17.972877Z",
     "iopub.status.busy": "2023-06-09T21:54:17.972252Z",
     "iopub.status.idle": "2023-06-09T21:54:18.357301Z",
     "shell.execute_reply": "2023-06-09T21:54:18.356510Z"
    },
    "papermill": {
     "duration": 0.40036,
     "end_time": "2023-06-09T21:54:18.361999",
     "exception": false,
     "start_time": "2023-06-09T21:54:17.961639",
     "status": "completed"
    },
    "tags": []
   },
   "outputs": [
    {
     "data": {
      "image/png": "[encoded data removed]",
      "text/plain": [
       "<Figure size 640x480 with 1 Axes>"
      ]
     },
     "metadata": {},
     "output_type": "display_data"
    }
   ],
   "source": [
    "learn.recorder.plot()"
   ]
  },
  {
   "cell_type": "code",
   "execution_count": 10,
   "id": "e8097cd4",
   "metadata": {
    "execution": {
     "iopub.execute_input": "2023-06-09T21:54:18.388610Z",
     "iopub.status.busy": "2023-06-09T21:54:18.388034Z",
     "iopub.status.idle": "2023-06-09T21:54:18.415368Z",
     "shell.execute_reply": "2023-06-09T21:54:18.414471Z"
    },
    "hidden": true,
    "papermill": {
     "duration": 0.041022,
     "end_time": "2023-06-09T21:54:18.418213",
     "exception": false,
     "start_time": "2023-06-09T21:54:18.377191",
     "status": "completed"
    },
    "tags": []
   },
   "outputs": [],
   "source": [
    "lr = 3e-3"
   ]
  },
  {
   "cell_type": "code",
   "execution_count": 11,
   "id": "d31661b7",
   "metadata": {
    "execution": {
     "iopub.execute_input": "2023-06-09T21:54:18.446432Z",
     "iopub.status.busy": "2023-06-09T21:54:18.445696Z",
     "iopub.status.idle": "2023-06-09T22:10:29.937496Z",
     "shell.execute_reply": "2023-06-09T22:10:29.936318Z"
    },
    "hidden": true,
    "papermill": {
     "duration": 971.507667,
     "end_time": "2023-06-09T22:10:29.942055",
     "exception": false,
     "start_time": "2023-06-09T21:54:18.434388",
     "status": "completed"
    },
    "tags": []
   },
   "outputs": [
    {
     "data": {
      "text/html": [
       "\n",
       "<style>\n",
       "    /* Turns off some styling */\n",
       "    progress {\n",
       "        /* gets rid of default border in Firefox and Opera. */\n",
       "        border: none;\n",
       "        /* Needs to be in here for Safari polyfill so background images work as expected. */\n",
       "        background-size: auto;\n",
       "    }\n",
       "    progress:not([value]), progress:not([value])::-webkit-progress-bar {\n",
       "        background: repeating-linear-gradient(45deg, #7e7e7e, #7e7e7e 10px, #5c5c5c 10px, #5c5c5c 20px);\n",
       "    }\n",
       "    .progress-bar-interrupted, .progress-bar-interrupted::-webkit-progress-bar {\n",
       "        background: #F44336;\n",
       "    }\n",
       "</style>\n"
      ],
      "text/plain": [
       "<IPython.core.display.HTML object>"
      ]
     },
     "metadata": {},
     "output_type": "display_data"
    },
    {
     "data": {
      "text/html": [
       "<table border=\"1\" class=\"dataframe\">\n",
       "  <thead>\n",
       "    <tr style=\"text-align: left;\">\n",
       "      <th>epoch</th>\n",
       "      <th>train_loss</th>\n",
       "      <th>valid_loss</th>\n",
       "      <th>accuracy</th>\n",
       "      <th>time</th>\n",
       "    </tr>\n",
       "  </thead>\n",
       "  <tbody>\n",
       "    <tr>\n",
       "      <td>0</td>\n",
       "      <td>6.704123</td>\n",
       "      <td>6.825674</td>\n",
       "      <td>0.033625</td>\n",
       "      <td>16:11</td>\n",
       "    </tr>\n",
       "  </tbody>\n",
       "</table>"
      ],
      "text/plain": [
       "<IPython.core.display.HTML object>"
      ]
     },
     "metadata": {},
     "output_type": "display_data"
    }
   ],
   "source": [
    "learn.unfreeze()\n",
    "learn.fit_one_cycle(1, lr, moms=(0.8,0.7))"
   ]
  },
  {
   "cell_type": "code",
   "execution_count": 12,
   "id": "34a69ca1",
   "metadata": {
    "execution": {
     "iopub.execute_input": "2023-06-09T22:10:29.970801Z",
     "iopub.status.busy": "2023-06-09T22:10:29.970276Z",
     "iopub.status.idle": "2023-06-10T00:54:01.785101Z",
     "shell.execute_reply": "2023-06-10T00:54:01.783953Z"
    },
    "papermill": {
     "duration": 9811.829871,
     "end_time": "2023-06-10T00:54:01.788307",
     "exception": false,
     "start_time": "2023-06-09T22:10:29.958436",
     "status": "completed"
    },
    "tags": []
   },
   "outputs": [
    {
     "data": {
      "text/html": [
       "\n",
       "<style>\n",
       "    /* Turns off some styling */\n",
       "    progress {\n",
       "        /* gets rid of default border in Firefox and Opera. */\n",
       "        border: none;\n",
       "        /* Needs to be in here for Safari polyfill so background images work as expected. */\n",
       "        background-size: auto;\n",
       "    }\n",
       "    progress:not([value]), progress:not([value])::-webkit-progress-bar {\n",
       "        background: repeating-linear-gradient(45deg, #7e7e7e, #7e7e7e 10px, #5c5c5c 10px, #5c5c5c 20px);\n",
       "    }\n",
       "    .progress-bar-interrupted, .progress-bar-interrupted::-webkit-progress-bar {\n",
       "        background: #F44336;\n",
       "    }\n",
       "</style>\n"
      ],
      "text/plain": [
       "<IPython.core.display.HTML object>"
      ]
     },
     "metadata": {},
     "output_type": "display_data"
    },
    {
     "data": {
      "text/html": [
       "<table border=\"1\" class=\"dataframe\">\n",
       "  <thead>\n",
       "    <tr style=\"text-align: left;\">\n",
       "      <th>epoch</th>\n",
       "      <th>train_loss</th>\n",
       "      <th>valid_loss</th>\n",
       "      <th>accuracy</th>\n",
       "      <th>time</th>\n",
       "    </tr>\n",
       "  </thead>\n",
       "  <tbody>\n",
       "    <tr>\n",
       "      <td>0</td>\n",
       "      <td>6.751542</td>\n",
       "      <td>6.866901</td>\n",
       "      <td>0.024103</td>\n",
       "      <td>16:17</td>\n",
       "    </tr>\n",
       "    <tr>\n",
       "      <td>1</td>\n",
       "      <td>6.859155</td>\n",
       "      <td>6.910577</td>\n",
       "      <td>0.023688</td>\n",
       "      <td>16:19</td>\n",
       "    </tr>\n",
       "    <tr>\n",
       "      <td>2</td>\n",
       "      <td>6.890357</td>\n",
       "      <td>6.931955</td>\n",
       "      <td>0.033625</td>\n",
       "      <td>16:12</td>\n",
       "    </tr>\n",
       "    <tr>\n",
       "      <td>3</td>\n",
       "      <td>6.921969</td>\n",
       "      <td>6.921094</td>\n",
       "      <td>0.023802</td>\n",
       "      <td>16:16</td>\n",
       "    </tr>\n",
       "    <tr>\n",
       "      <td>4</td>\n",
       "      <td>6.647561</td>\n",
       "      <td>6.923466</td>\n",
       "      <td>0.033625</td>\n",
       "      <td>16:19</td>\n",
       "    </tr>\n",
       "    <tr>\n",
       "      <td>5</td>\n",
       "      <td>6.812690</td>\n",
       "      <td>6.901229</td>\n",
       "      <td>0.023802</td>\n",
       "      <td>16:19</td>\n",
       "    </tr>\n",
       "    <tr>\n",
       "      <td>6</td>\n",
       "      <td>6.157326</td>\n",
       "      <td>6.155074</td>\n",
       "      <td>0.072155</td>\n",
       "      <td>16:25</td>\n",
       "    </tr>\n",
       "    <tr>\n",
       "      <td>7</td>\n",
       "      <td>6.116271</td>\n",
       "      <td>6.028799</td>\n",
       "      <td>0.075438</td>\n",
       "      <td>16:28</td>\n",
       "    </tr>\n",
       "    <tr>\n",
       "      <td>8</td>\n",
       "      <td>5.978178</td>\n",
       "      <td>5.961911</td>\n",
       "      <td>0.076707</td>\n",
       "      <td>16:25</td>\n",
       "    </tr>\n",
       "    <tr>\n",
       "      <td>9</td>\n",
       "      <td>5.917929</td>\n",
       "      <td>5.947100</td>\n",
       "      <td>0.077284</td>\n",
       "      <td>16:27</td>\n",
       "    </tr>\n",
       "  </tbody>\n",
       "</table>"
      ],
      "text/plain": [
       "<IPython.core.display.HTML object>"
      ]
     },
     "metadata": {},
     "output_type": "display_data"
    }
   ],
   "source": [
    "learn.fit_one_cycle(10, lr, moms=(0.8,0.7))"
   ]
  },
  {
   "cell_type": "code",
   "execution_count": 13,
   "id": "db400cdb",
   "metadata": {
    "execution": {
     "iopub.execute_input": "2023-06-10T00:54:01.816896Z",
     "iopub.status.busy": "2023-06-10T00:54:01.816326Z",
     "iopub.status.idle": "2023-06-10T02:16:23.052889Z",
     "shell.execute_reply": "2023-06-10T02:16:23.051769Z"
    },
    "papermill": {
     "duration": 4941.252067,
     "end_time": "2023-06-10T02:16:23.056463",
     "exception": false,
     "start_time": "2023-06-10T00:54:01.804396",
     "status": "completed"
    },
    "tags": []
   },
   "outputs": [
    {
     "data": {
      "text/html": [
       "\n",
       "<style>\n",
       "    /* Turns off some styling */\n",
       "    progress {\n",
       "        /* gets rid of default border in Firefox and Opera. */\n",
       "        border: none;\n",
       "        /* Needs to be in here for Safari polyfill so background images work as expected. */\n",
       "        background-size: auto;\n",
       "    }\n",
       "    progress:not([value]), progress:not([value])::-webkit-progress-bar {\n",
       "        background: repeating-linear-gradient(45deg, #7e7e7e, #7e7e7e 10px, #5c5c5c 10px, #5c5c5c 20px);\n",
       "    }\n",
       "    .progress-bar-interrupted, .progress-bar-interrupted::-webkit-progress-bar {\n",
       "        background: #F44336;\n",
       "    }\n",
       "</style>\n"
      ],
      "text/plain": [
       "<IPython.core.display.HTML object>"
      ]
     },
     "metadata": {},
     "output_type": "display_data"
    },
    {
     "data": {
      "text/html": [
       "<table border=\"1\" class=\"dataframe\">\n",
       "  <thead>\n",
       "    <tr style=\"text-align: left;\">\n",
       "      <th>epoch</th>\n",
       "      <th>train_loss</th>\n",
       "      <th>valid_loss</th>\n",
       "      <th>accuracy</th>\n",
       "      <th>time</th>\n",
       "    </tr>\n",
       "  </thead>\n",
       "  <tbody>\n",
       "    <tr>\n",
       "      <td>0</td>\n",
       "      <td>5.944312</td>\n",
       "      <td>6.003721</td>\n",
       "      <td>0.077286</td>\n",
       "      <td>16:29</td>\n",
       "    </tr>\n",
       "    <tr>\n",
       "      <td>1</td>\n",
       "      <td>6.108537</td>\n",
       "      <td>5.999419</td>\n",
       "      <td>0.074793</td>\n",
       "      <td>16:22</td>\n",
       "    </tr>\n",
       "    <tr>\n",
       "      <td>2</td>\n",
       "      <td>6.008843</td>\n",
       "      <td>5.913651</td>\n",
       "      <td>0.078462</td>\n",
       "      <td>16:36</td>\n",
       "    </tr>\n",
       "    <tr>\n",
       "      <td>3</td>\n",
       "      <td>5.875874</td>\n",
       "      <td>5.824881</td>\n",
       "      <td>0.076986</td>\n",
       "      <td>16:26</td>\n",
       "    </tr>\n",
       "    <tr>\n",
       "      <td>4</td>\n",
       "      <td>5.863880</td>\n",
       "      <td>5.788571</td>\n",
       "      <td>0.080221</td>\n",
       "      <td>16:26</td>\n",
       "    </tr>\n",
       "  </tbody>\n",
       "</table>"
      ],
      "text/plain": [
       "<IPython.core.display.HTML object>"
      ]
     },
     "metadata": {},
     "output_type": "display_data"
    }
   ],
   "source": [
    "learn.fit_one_cycle(5, lr, moms=(0.8,0.7))"
   ]
  },
  {
   "cell_type": "code",
   "execution_count": 14,
   "id": "a6a38ec0",
   "metadata": {
    "execution": {
     "iopub.execute_input": "2023-06-10T02:16:23.084771Z",
     "iopub.status.busy": "2023-06-10T02:16:23.084244Z",
     "iopub.status.idle": "2023-06-10T03:38:40.725239Z",
     "shell.execute_reply": "2023-06-10T03:38:40.724110Z"
    },
    "papermill": {
     "duration": 4937.657194,
     "end_time": "2023-06-10T03:38:40.728583",
     "exception": false,
     "start_time": "2023-06-10T02:16:23.071389",
     "status": "completed"
    },
    "tags": []
   },
   "outputs": [
    {
     "data": {
      "text/html": [
       "\n",
       "<style>\n",
       "    /* Turns off some styling */\n",
       "    progress {\n",
       "        /* gets rid of default border in Firefox and Opera. */\n",
       "        border: none;\n",
       "        /* Needs to be in here for Safari polyfill so background images work as expected. */\n",
       "        background-size: auto;\n",
       "    }\n",
       "    progress:not([value]), progress:not([value])::-webkit-progress-bar {\n",
       "        background: repeating-linear-gradient(45deg, #7e7e7e, #7e7e7e 10px, #5c5c5c 10px, #5c5c5c 20px);\n",
       "    }\n",
       "    .progress-bar-interrupted, .progress-bar-interrupted::-webkit-progress-bar {\n",
       "        background: #F44336;\n",
       "    }\n",
       "</style>\n"
      ],
      "text/plain": [
       "<IPython.core.display.HTML object>"
      ]
     },
     "metadata": {},
     "output_type": "display_data"
    },
    {
     "data": {
      "text/html": [
       "<table border=\"1\" class=\"dataframe\">\n",
       "  <thead>\n",
       "    <tr style=\"text-align: left;\">\n",
       "      <th>epoch</th>\n",
       "      <th>train_loss</th>\n",
       "      <th>valid_loss</th>\n",
       "      <th>accuracy</th>\n",
       "      <th>time</th>\n",
       "    </tr>\n",
       "  </thead>\n",
       "  <tbody>\n",
       "    <tr>\n",
       "      <td>0</td>\n",
       "      <td>5.760996</td>\n",
       "      <td>5.906658</td>\n",
       "      <td>0.077099</td>\n",
       "      <td>16:29</td>\n",
       "    </tr>\n",
       "    <tr>\n",
       "      <td>1</td>\n",
       "      <td>5.915617</td>\n",
       "      <td>5.917357</td>\n",
       "      <td>0.077528</td>\n",
       "      <td>16:27</td>\n",
       "    </tr>\n",
       "    <tr>\n",
       "      <td>2</td>\n",
       "      <td>5.899685</td>\n",
       "      <td>5.865664</td>\n",
       "      <td>0.076936</td>\n",
       "      <td>16:30</td>\n",
       "    </tr>\n",
       "    <tr>\n",
       "      <td>3</td>\n",
       "      <td>5.883934</td>\n",
       "      <td>5.762815</td>\n",
       "      <td>0.082811</td>\n",
       "      <td>16:27</td>\n",
       "    </tr>\n",
       "    <tr>\n",
       "      <td>4</td>\n",
       "      <td>5.874158</td>\n",
       "      <td>5.725037</td>\n",
       "      <td>0.083468</td>\n",
       "      <td>16:22</td>\n",
       "    </tr>\n",
       "  </tbody>\n",
       "</table>"
      ],
      "text/plain": [
       "<IPython.core.display.HTML object>"
      ]
     },
     "metadata": {},
     "output_type": "display_data"
    }
   ],
   "source": [
    "learn.fit_one_cycle(5, lr, moms=(0.8,0.7))"
   ]
  },
  {
   "cell_type": "code",
   "execution_count": 15,
   "id": "078e4632",
   "metadata": {
    "execution": {
     "iopub.execute_input": "2023-06-10T03:38:40.757032Z",
     "iopub.status.busy": "2023-06-10T03:38:40.756502Z",
     "iopub.status.idle": "2023-06-10T03:38:40.790012Z",
     "shell.execute_reply": "2023-06-10T03:38:40.788968Z"
    },
    "papermill": {
     "duration": 0.049734,
     "end_time": "2023-06-10T03:38:40.793569",
     "exception": false,
     "start_time": "2023-06-10T03:38:40.743835",
     "status": "completed"
    },
    "tags": []
   },
   "outputs": [],
   "source": [
    "mdl_path = path/'models'\n",
    "mdl_path.mkdir(exist_ok=True, parents=True)"
   ]
  },
  {
   "cell_type": "code",
   "execution_count": 16,
   "id": "e4b9ff59",
   "metadata": {
    "execution": {
     "iopub.execute_input": "2023-06-10T03:38:40.822465Z",
     "iopub.status.busy": "2023-06-10T03:38:40.822036Z",
     "iopub.status.idle": "2023-06-10T03:38:41.376717Z",
     "shell.execute_reply": "2023-06-10T03:38:41.375680Z"
    },
    "hidden": true,
    "papermill": {
     "duration": 0.570939,
     "end_time": "2023-06-10T03:38:41.380690",
     "exception": false,
     "start_time": "2023-06-10T03:38:40.809751",
     "status": "completed"
    },
    "tags": []
   },
   "outputs": [],
   "source": [
    "model_basename = 'awdlstm_train-imslp_lm'\n",
    "learn.save(mdl_path/f'{model_basename}_wt', with_opt=False)\n",
    "learn.data.vocab.save(mdl_path/f'{model_basename}_vocab.pkl')"
   ]
  },
  {
   "attachments": {},
   "cell_type": "markdown",
   "id": "66055e63",
   "metadata": {
    "papermill": {
     "duration": 0.011187,
     "end_time": "2023-06-10T03:38:41.409446",
     "exception": false,
     "start_time": "2023-06-10T03:38:41.398259",
     "status": "completed"
    },
    "tags": []
   },
   "source": [
    "### Finetune Language Model"
   ]
  },
  {
   "cell_type": "code",
   "execution_count": 17,
   "id": "0c4f7a57",
   "metadata": {
    "execution": {
     "iopub.execute_input": "2023-06-10T03:38:41.432984Z",
     "iopub.status.busy": "2023-06-10T03:38:41.432481Z",
     "iopub.status.idle": "2023-06-10T03:38:41.652693Z",
     "shell.execute_reply": "2023-06-10T03:38:41.651659Z"
    },
    "papermill": {
     "duration": 0.236234,
     "end_time": "2023-06-10T03:38:41.656487",
     "exception": false,
     "start_time": "2023-06-10T03:38:41.420253",
     "status": "completed"
    },
    "tags": []
   },
   "outputs": [],
   "source": [
    "data_target_lm = load_data(path, 'lm_target_databunch', bs=bs)"
   ]
  },
  {
   "cell_type": "code",
   "execution_count": 18,
   "id": "ad45c6ce",
   "metadata": {
    "execution": {
     "iopub.execute_input": "2023-06-10T03:38:41.687238Z",
     "iopub.status.busy": "2023-06-10T03:38:41.686643Z",
     "iopub.status.idle": "2023-06-10T03:38:42.498987Z",
     "shell.execute_reply": "2023-06-10T03:38:42.498097Z"
    },
    "papermill": {
     "duration": 0.827271,
     "end_time": "2023-06-10T03:38:42.501459",
     "exception": false,
     "start_time": "2023-06-10T03:38:41.674188",
     "status": "completed"
    },
    "tags": []
   },
   "outputs": [],
   "source": [
    "lm_fns = [mdl_path/f'{model_basename}_wt', mdl_path/f'{model_basename}_vocab']\n",
    "learn_lm = language_model_learner(data_target_lm, AWD_LSTM, pretrained_fnames=lm_fns, drop_mult=1.0)"
   ]
  },
  {
   "cell_type": "code",
   "execution_count": 19,
   "id": "781ec0a3",
   "metadata": {
    "execution": {
     "iopub.execute_input": "2023-06-10T03:38:42.535122Z",
     "iopub.status.busy": "2023-06-10T03:38:42.534538Z",
     "iopub.status.idle": "2023-06-10T03:38:46.901630Z",
     "shell.execute_reply": "2023-06-10T03:38:46.900596Z"
    },
    "papermill": {
     "duration": 4.386294,
     "end_time": "2023-06-10T03:38:46.904199",
     "exception": false,
     "start_time": "2023-06-10T03:38:42.517905",
     "status": "completed"
    },
    "tags": []
   },
   "outputs": [
    {
     "data": {
      "text/html": [
       "\n",
       "<style>\n",
       "    /* Turns off some styling */\n",
       "    progress {\n",
       "        /* gets rid of default border in Firefox and Opera. */\n",
       "        border: none;\n",
       "        /* Needs to be in here for Safari polyfill so background images work as expected. */\n",
       "        background-size: auto;\n",
       "    }\n",
       "    progress:not([value]), progress:not([value])::-webkit-progress-bar {\n",
       "        background: repeating-linear-gradient(45deg, #7e7e7e, #7e7e7e 10px, #5c5c5c 10px, #5c5c5c 20px);\n",
       "    }\n",
       "    .progress-bar-interrupted, .progress-bar-interrupted::-webkit-progress-bar {\n",
       "        background: #F44336;\n",
       "    }\n",
       "</style>\n"
      ],
      "text/plain": [
       "<IPython.core.display.HTML object>"
      ]
     },
     "metadata": {},
     "output_type": "display_data"
    },
    {
     "data": {
      "text/html": [
       "\n",
       "    <div>\n",
       "      <progress value='0' class='' max='1' style='width:300px; height:20px; vertical-align: middle;'></progress>\n",
       "      0.00% [0/1 00:00&lt;?]\n",
       "    </div>\n",
       "    \n",
       "<table border=\"1\" class=\"dataframe\">\n",
       "  <thead>\n",
       "    <tr style=\"text-align: left;\">\n",
       "      <th>epoch</th>\n",
       "      <th>train_loss</th>\n",
       "      <th>valid_loss</th>\n",
       "      <th>accuracy</th>\n",
       "      <th>time</th>\n",
       "    </tr>\n",
       "  </thead>\n",
       "  <tbody>\n",
       "  </tbody>\n",
       "</table><p>\n",
       "\n",
       "    <div>\n",
       "      <progress value='89' class='' max='386' style='width:300px; height:20px; vertical-align: middle;'></progress>\n",
       "      23.06% [89/386 00:03&lt;00:11 34.2452]\n",
       "    </div>\n",
       "    "
      ],
      "text/plain": [
       "<IPython.core.display.HTML object>"
      ]
     },
     "metadata": {},
     "output_type": "display_data"
    },
    {
     "name": "stdout",
     "output_type": "stream",
     "text": [
      "LR Finder is complete, type {learner_name}.recorder.plot() to see the graph.\n"
     ]
    }
   ],
   "source": [
    "learn_lm.lr_find()"
   ]
  },
  {
   "cell_type": "code",
   "execution_count": 20,
   "id": "3ddbe13f",
   "metadata": {
    "execution": {
     "iopub.execute_input": "2023-06-10T03:38:46.941993Z",
     "iopub.status.busy": "2023-06-10T03:38:46.941440Z",
     "iopub.status.idle": "2023-06-10T03:38:47.400304Z",
     "shell.execute_reply": "2023-06-10T03:38:47.399298Z"
    },
    "papermill": {
     "duration": 0.480202,
     "end_time": "2023-06-10T03:38:47.402859",
     "exception": false,
     "start_time": "2023-06-10T03:38:46.922657",
     "status": "completed"
    },
    "tags": []
   },
   "outputs": [
    {
     "data": {
      "image/png": "[encoded data removed]",
      "text/plain": [
       "<Figure size 640x480 with 1 Axes>"
      ]
     },
     "metadata": {},
     "output_type": "display_data"
    }
   ],
   "source": [
    "learn_lm.recorder.plot()"
   ]
  },
  {
   "cell_type": "code",
   "execution_count": 21,
   "id": "aa1772b2",
   "metadata": {
    "execution": {
     "iopub.execute_input": "2023-06-10T03:38:47.441755Z",
     "iopub.status.busy": "2023-06-10T03:38:47.441306Z",
     "iopub.status.idle": "2023-06-10T03:38:47.472011Z",
     "shell.execute_reply": "2023-06-10T03:38:47.470982Z"
    },
    "papermill": {
     "duration": 0.052935,
     "end_time": "2023-06-10T03:38:47.474856",
     "exception": false,
     "start_time": "2023-06-10T03:38:47.421921",
     "status": "completed"
    },
    "tags": []
   },
   "outputs": [],
   "source": [
    "lr = 1e-3"
   ]
  },
  {
   "cell_type": "code",
   "execution_count": 22,
   "id": "a704991e",
   "metadata": {
    "execution": {
     "iopub.execute_input": "2023-06-10T03:38:47.513706Z",
     "iopub.status.busy": "2023-06-10T03:38:47.513193Z",
     "iopub.status.idle": "2023-06-10T03:39:19.118028Z",
     "shell.execute_reply": "2023-06-10T03:39:19.117034Z"
    },
    "papermill": {
     "duration": 31.62788,
     "end_time": "2023-06-10T03:39:19.121429",
     "exception": false,
     "start_time": "2023-06-10T03:38:47.493549",
     "status": "completed"
    },
    "tags": []
   },
   "outputs": [
    {
     "data": {
      "text/html": [
       "\n",
       "<style>\n",
       "    /* Turns off some styling */\n",
       "    progress {\n",
       "        /* gets rid of default border in Firefox and Opera. */\n",
       "        border: none;\n",
       "        /* Needs to be in here for Safari polyfill so background images work as expected. */\n",
       "        background-size: auto;\n",
       "    }\n",
       "    progress:not([value]), progress:not([value])::-webkit-progress-bar {\n",
       "        background: repeating-linear-gradient(45deg, #7e7e7e, #7e7e7e 10px, #5c5c5c 10px, #5c5c5c 20px);\n",
       "    }\n",
       "    .progress-bar-interrupted, .progress-bar-interrupted::-webkit-progress-bar {\n",
       "        background: #F44336;\n",
       "    }\n",
       "</style>\n"
      ],
      "text/plain": [
       "<IPython.core.display.HTML object>"
      ]
     },
     "metadata": {},
     "output_type": "display_data"
    },
    {
     "data": {
      "text/html": [
       "<table border=\"1\" class=\"dataframe\">\n",
       "  <thead>\n",
       "    <tr style=\"text-align: left;\">\n",
       "      <th>epoch</th>\n",
       "      <th>train_loss</th>\n",
       "      <th>valid_loss</th>\n",
       "      <th>accuracy</th>\n",
       "      <th>time</th>\n",
       "    </tr>\n",
       "  </thead>\n",
       "  <tbody>\n",
       "    <tr>\n",
       "      <td>0</td>\n",
       "      <td>7.470451</td>\n",
       "      <td>6.479064</td>\n",
       "      <td>0.064521</td>\n",
       "      <td>00:15</td>\n",
       "    </tr>\n",
       "    <tr>\n",
       "      <td>1</td>\n",
       "      <td>6.880929</td>\n",
       "      <td>6.124602</td>\n",
       "      <td>0.062696</td>\n",
       "      <td>00:15</td>\n",
       "    </tr>\n",
       "  </tbody>\n",
       "</table>"
      ],
      "text/plain": [
       "<IPython.core.display.HTML object>"
      ]
     },
     "metadata": {},
     "output_type": "display_data"
    }
   ],
   "source": [
    "learn_lm.fit_one_cycle(2, lr*10, moms=(0.8,0.7))"
   ]
  },
  {
   "cell_type": "code",
   "execution_count": 23,
   "id": "fd3992dd",
   "metadata": {
    "execution": {
     "iopub.execute_input": "2023-06-10T03:39:19.151439Z",
     "iopub.status.busy": "2023-06-10T03:39:19.150952Z",
     "iopub.status.idle": "2023-06-10T03:41:46.563209Z",
     "shell.execute_reply": "2023-06-10T03:41:46.562061Z"
    },
    "papermill": {
     "duration": 147.429278,
     "end_time": "2023-06-10T03:41:46.566669",
     "exception": false,
     "start_time": "2023-06-10T03:39:19.137391",
     "status": "completed"
    },
    "tags": []
   },
   "outputs": [
    {
     "data": {
      "text/html": [
       "\n",
       "<style>\n",
       "    /* Turns off some styling */\n",
       "    progress {\n",
       "        /* gets rid of default border in Firefox and Opera. */\n",
       "        border: none;\n",
       "        /* Needs to be in here for Safari polyfill so background images work as expected. */\n",
       "        background-size: auto;\n",
       "    }\n",
       "    progress:not([value]), progress:not([value])::-webkit-progress-bar {\n",
       "        background: repeating-linear-gradient(45deg, #7e7e7e, #7e7e7e 10px, #5c5c5c 10px, #5c5c5c 20px);\n",
       "    }\n",
       "    .progress-bar-interrupted, .progress-bar-interrupted::-webkit-progress-bar {\n",
       "        background: #F44336;\n",
       "    }\n",
       "</style>\n"
      ],
      "text/plain": [
       "<IPython.core.display.HTML object>"
      ]
     },
     "metadata": {},
     "output_type": "display_data"
    },
    {
     "data": {
      "text/html": [
       "<table border=\"1\" class=\"dataframe\">\n",
       "  <thead>\n",
       "    <tr style=\"text-align: left;\">\n",
       "      <th>epoch</th>\n",
       "      <th>train_loss</th>\n",
       "      <th>valid_loss</th>\n",
       "      <th>accuracy</th>\n",
       "      <th>time</th>\n",
       "    </tr>\n",
       "  </thead>\n",
       "  <tbody>\n",
       "    <tr>\n",
       "      <td>0</td>\n",
       "      <td>5.935287</td>\n",
       "      <td>5.496335</td>\n",
       "      <td>0.090335</td>\n",
       "      <td>00:18</td>\n",
       "    </tr>\n",
       "    <tr>\n",
       "      <td>1</td>\n",
       "      <td>5.577995</td>\n",
       "      <td>5.170533</td>\n",
       "      <td>0.100540</td>\n",
       "      <td>00:18</td>\n",
       "    </tr>\n",
       "    <tr>\n",
       "      <td>2</td>\n",
       "      <td>5.336459</td>\n",
       "      <td>5.028930</td>\n",
       "      <td>0.106446</td>\n",
       "      <td>00:18</td>\n",
       "    </tr>\n",
       "    <tr>\n",
       "      <td>3</td>\n",
       "      <td>5.255887</td>\n",
       "      <td>4.936432</td>\n",
       "      <td>0.115296</td>\n",
       "      <td>00:18</td>\n",
       "    </tr>\n",
       "    <tr>\n",
       "      <td>4</td>\n",
       "      <td>5.191999</td>\n",
       "      <td>4.886343</td>\n",
       "      <td>0.123449</td>\n",
       "      <td>00:18</td>\n",
       "    </tr>\n",
       "    <tr>\n",
       "      <td>5</td>\n",
       "      <td>5.044835</td>\n",
       "      <td>4.842362</td>\n",
       "      <td>0.133686</td>\n",
       "      <td>00:18</td>\n",
       "    </tr>\n",
       "    <tr>\n",
       "      <td>6</td>\n",
       "      <td>5.018889</td>\n",
       "      <td>4.822254</td>\n",
       "      <td>0.139756</td>\n",
       "      <td>00:18</td>\n",
       "    </tr>\n",
       "    <tr>\n",
       "      <td>7</td>\n",
       "      <td>5.012424</td>\n",
       "      <td>4.817284</td>\n",
       "      <td>0.141291</td>\n",
       "      <td>00:18</td>\n",
       "    </tr>\n",
       "  </tbody>\n",
       "</table>"
      ],
      "text/plain": [
       "<IPython.core.display.HTML object>"
      ]
     },
     "metadata": {},
     "output_type": "display_data"
    }
   ],
   "source": [
    "learn_lm.unfreeze()\n",
    "learn_lm.fit_one_cycle(8, lr, moms=(0.8,0.7))"
   ]
  },
  {
   "cell_type": "code",
   "execution_count": 24,
   "id": "2fb54693",
   "metadata": {
    "execution": {
     "iopub.execute_input": "2023-06-10T03:41:46.597446Z",
     "iopub.status.busy": "2023-06-10T03:41:46.596762Z",
     "iopub.status.idle": "2023-06-10T03:41:47.464673Z",
     "shell.execute_reply": "2023-06-10T03:41:47.463602Z"
    },
    "papermill": {
     "duration": 0.886457,
     "end_time": "2023-06-10T03:41:47.468607",
     "exception": false,
     "start_time": "2023-06-10T03:41:46.582150",
     "status": "completed"
    },
    "tags": []
   },
   "outputs": [],
   "source": [
    "ftmodel_basename = 'awdlstm_train-imslp_finetune-target_lm'\n",
    "learn_lm.save(ftmodel_basename)\n",
    "learn_lm.save_encoder(f'{ftmodel_basename}enc')"
   ]
  },
  {
   "attachments": {},
   "cell_type": "markdown",
   "id": "9fc3b7cd",
   "metadata": {
    "papermill": {
     "duration": 0.012497,
     "end_time": "2023-06-10T03:41:47.500099",
     "exception": false,
     "start_time": "2023-06-10T03:41:47.487602",
     "status": "completed"
    },
    "tags": []
   },
   "source": [
    "### Train Classifier"
   ]
  },
  {
   "cell_type": "code",
   "execution_count": 25,
   "id": "4d999c77",
   "metadata": {
    "execution": {
     "iopub.execute_input": "2023-06-10T03:41:47.527298Z",
     "iopub.status.busy": "2023-06-10T03:41:47.526598Z",
     "iopub.status.idle": "2023-06-10T03:41:48.076427Z",
     "shell.execute_reply": "2023-06-10T03:41:48.075375Z"
    },
    "papermill": {
     "duration": 0.567948,
     "end_time": "2023-06-10T03:41:48.080325",
     "exception": false,
     "start_time": "2023-06-10T03:41:47.512377",
     "status": "completed"
    },
    "tags": []
   },
   "outputs": [],
   "source": [
    "train_df = pd.read_csv(path/'train64.csv')\n",
    "valid_df = pd.read_csv(path/'valid64.csv')\n",
    "test_df = pd.read_csv(path/'test64.csv')"
   ]
  },
  {
   "cell_type": "code",
   "execution_count": 26,
   "id": "0a6ff2d0",
   "metadata": {
    "execution": {
     "iopub.execute_input": "2023-06-10T03:41:48.114200Z",
     "iopub.status.busy": "2023-06-10T03:41:48.113686Z",
     "iopub.status.idle": "2023-06-10T03:42:01.362873Z",
     "shell.execute_reply": "2023-06-10T03:42:01.361579Z"
    },
    "papermill": {
     "duration": 13.267178,
     "end_time": "2023-06-10T03:42:01.366795",
     "exception": false,
     "start_time": "2023-06-10T03:41:48.099617",
     "status": "completed"
    },
    "tags": []
   },
   "outputs": [
    {
     "data": {
      "text/html": [
       "\n",
       "<style>\n",
       "    /* Turns off some styling */\n",
       "    progress {\n",
       "        /* gets rid of default border in Firefox and Opera. */\n",
       "        border: none;\n",
       "        /* Needs to be in here for Safari polyfill so background images work as expected. */\n",
       "        background-size: auto;\n",
       "    }\n",
       "    progress:not([value]), progress:not([value])::-webkit-progress-bar {\n",
       "        background: repeating-linear-gradient(45deg, #7e7e7e, #7e7e7e 10px, #5c5c5c 10px, #5c5c5c 20px);\n",
       "    }\n",
       "    .progress-bar-interrupted, .progress-bar-interrupted::-webkit-progress-bar {\n",
       "        background: #F44336;\n",
       "    }\n",
       "</style>\n"
      ],
      "text/plain": [
       "<IPython.core.display.HTML object>"
      ]
     },
     "metadata": {},
     "output_type": "display_data"
    },
    {
     "data": {
      "text/html": [],
      "text/plain": [
       "<IPython.core.display.HTML object>"
      ]
     },
     "metadata": {},
     "output_type": "display_data"
    },
    {
     "data": {
      "text/html": [
       "\n",
       "<style>\n",
       "    /* Turns off some styling */\n",
       "    progress {\n",
       "        /* gets rid of default border in Firefox and Opera. */\n",
       "        border: none;\n",
       "        /* Needs to be in here for Safari polyfill so background images work as expected. */\n",
       "        background-size: auto;\n",
       "    }\n",
       "    progress:not([value]), progress:not([value])::-webkit-progress-bar {\n",
       "        background: repeating-linear-gradient(45deg, #7e7e7e, #7e7e7e 10px, #5c5c5c 10px, #5c5c5c 20px);\n",
       "    }\n",
       "    .progress-bar-interrupted, .progress-bar-interrupted::-webkit-progress-bar {\n",
       "        background: #F44336;\n",
       "    }\n",
       "</style>\n"
      ],
      "text/plain": [
       "<IPython.core.display.HTML object>"
      ]
     },
     "metadata": {},
     "output_type": "display_data"
    },
    {
     "data": {
      "text/html": [],
      "text/plain": [
       "<IPython.core.display.HTML object>"
      ]
     },
     "metadata": {},
     "output_type": "display_data"
    }
   ],
   "source": [
    "basicTokenizer = Tokenizer(pre_rules=[], post_rules=[])\n",
    "data_clas = TextDataBunch.from_df(path, train_df, valid_df, tokenizer=basicTokenizer,\n",
    "                                  vocab = data_target_lm.vocab, bs=bs, num_workers=1)"
   ]
  },
  {
   "cell_type": "code",
   "execution_count": 27,
   "id": "1e30b477",
   "metadata": {
    "execution": {
     "iopub.execute_input": "2023-06-10T03:42:01.398738Z",
     "iopub.status.busy": "2023-06-10T03:42:01.398059Z",
     "iopub.status.idle": "2023-06-10T03:42:01.801919Z",
     "shell.execute_reply": "2023-06-10T03:42:01.800970Z"
    },
    "papermill": {
     "duration": 0.419734,
     "end_time": "2023-06-10T03:42:01.805728",
     "exception": false,
     "start_time": "2023-06-10T03:42:01.385994",
     "status": "completed"
    },
    "tags": []
   },
   "outputs": [],
   "source": [
    "learn_c = text_classifier_learner(data_clas, AWD_LSTM, pretrained=False, drop_mult=0.5, \n",
    "                                  metrics=[accuracy, FBeta(average='macro', beta=1)])\n",
    "learn_c.load_encoder(f'{ftmodel_basename}enc')\n",
    "learn_c.freeze()"
   ]
  },
  {
   "cell_type": "code",
   "execution_count": 28,
   "id": "7b1b5ac7",
   "metadata": {
    "execution": {
     "iopub.execute_input": "2023-06-10T03:42:01.832707Z",
     "iopub.status.busy": "2023-06-10T03:42:01.832149Z",
     "iopub.status.idle": "2023-06-10T03:42:05.555661Z",
     "shell.execute_reply": "2023-06-10T03:42:05.554573Z"
    },
    "papermill": {
     "duration": 3.738716,
     "end_time": "2023-06-10T03:42:05.559175",
     "exception": false,
     "start_time": "2023-06-10T03:42:01.820459",
     "status": "completed"
    },
    "tags": []
   },
   "outputs": [
    {
     "data": {
      "text/html": [
       "\n",
       "<style>\n",
       "    /* Turns off some styling */\n",
       "    progress {\n",
       "        /* gets rid of default border in Firefox and Opera. */\n",
       "        border: none;\n",
       "        /* Needs to be in here for Safari polyfill so background images work as expected. */\n",
       "        background-size: auto;\n",
       "    }\n",
       "    progress:not([value]), progress:not([value])::-webkit-progress-bar {\n",
       "        background: repeating-linear-gradient(45deg, #7e7e7e, #7e7e7e 10px, #5c5c5c 10px, #5c5c5c 20px);\n",
       "    }\n",
       "    .progress-bar-interrupted, .progress-bar-interrupted::-webkit-progress-bar {\n",
       "        background: #F44336;\n",
       "    }\n",
       "</style>\n"
      ],
      "text/plain": [
       "<IPython.core.display.HTML object>"
      ]
     },
     "metadata": {},
     "output_type": "display_data"
    },
    {
     "data": {
      "text/html": [
       "\n",
       "    <div>\n",
       "      <progress value='0' class='' max='1' style='width:300px; height:20px; vertical-align: middle;'></progress>\n",
       "      0.00% [0/1 00:00&lt;?]\n",
       "    </div>\n",
       "    \n",
       "<table border=\"1\" class=\"dataframe\">\n",
       "  <thead>\n",
       "    <tr style=\"text-align: left;\">\n",
       "      <th>epoch</th>\n",
       "      <th>train_loss</th>\n",
       "      <th>valid_loss</th>\n",
       "      <th>accuracy</th>\n",
       "      <th>f_beta</th>\n",
       "      <th>time</th>\n",
       "    </tr>\n",
       "  </thead>\n",
       "  <tbody>\n",
       "  </tbody>\n",
       "</table><p>\n",
       "\n",
       "    <div>\n",
       "      <progress value='93' class='' max='675' style='width:300px; height:20px; vertical-align: middle;'></progress>\n",
       "      13.78% [93/675 00:02&lt;00:14 4.0269]\n",
       "    </div>\n",
       "    "
      ],
      "text/plain": [
       "<IPython.core.display.HTML object>"
      ]
     },
     "metadata": {},
     "output_type": "display_data"
    },
    {
     "name": "stdout",
     "output_type": "stream",
     "text": [
      "LR Finder is complete, type {learner_name}.recorder.plot() to see the graph.\n"
     ]
    }
   ],
   "source": [
    "learn_c.lr_find()"
   ]
  },
  {
   "cell_type": "code",
   "execution_count": 29,
   "id": "36fe20c5",
   "metadata": {
    "execution": {
     "iopub.execute_input": "2023-06-10T03:42:05.592793Z",
     "iopub.status.busy": "2023-06-10T03:42:05.592385Z",
     "iopub.status.idle": "2023-06-10T03:42:06.035076Z",
     "shell.execute_reply": "2023-06-10T03:42:06.034382Z"
    },
    "papermill": {
     "duration": 0.460576,
     "end_time": "2023-06-10T03:42:06.038250",
     "exception": false,
     "start_time": "2023-06-10T03:42:05.577674",
     "status": "completed"
    },
    "tags": []
   },
   "outputs": [
    {
     "data": {
      "image/png": "[encoded data removed]",
      "text/plain": [
       "<Figure size 640x480 with 1 Axes>"
      ]
     },
     "metadata": {},
     "output_type": "display_data"
    }
   ],
   "source": [
    "learn_c.recorder.plot()"
   ]
  },
  {
   "cell_type": "code",
   "execution_count": 30,
   "id": "e5bc760b",
   "metadata": {
    "execution": {
     "iopub.execute_input": "2023-06-10T03:42:06.072217Z",
     "iopub.status.busy": "2023-06-10T03:42:06.071824Z",
     "iopub.status.idle": "2023-06-10T03:42:06.096335Z",
     "shell.execute_reply": "2023-06-10T03:42:06.095484Z"
    },
    "papermill": {
     "duration": 0.042471,
     "end_time": "2023-06-10T03:42:06.098824",
     "exception": false,
     "start_time": "2023-06-10T03:42:06.056353",
     "status": "completed"
    },
    "tags": []
   },
   "outputs": [],
   "source": [
    "lr = 3e-4"
   ]
  },
  {
   "cell_type": "code",
   "execution_count": 31,
   "id": "ffaecc64",
   "metadata": {
    "execution": {
     "iopub.execute_input": "2023-06-10T03:42:06.133807Z",
     "iopub.status.busy": "2023-06-10T03:42:06.133385Z",
     "iopub.status.idle": "2023-06-10T03:42:31.063715Z",
     "shell.execute_reply": "2023-06-10T03:42:31.062218Z"
    },
    "papermill": {
     "duration": 24.949503,
     "end_time": "2023-06-10T03:42:31.067356",
     "exception": false,
     "start_time": "2023-06-10T03:42:06.117853",
     "status": "completed"
    },
    "tags": []
   },
   "outputs": [
    {
     "data": {
      "text/html": [
       "\n",
       "<style>\n",
       "    /* Turns off some styling */\n",
       "    progress {\n",
       "        /* gets rid of default border in Firefox and Opera. */\n",
       "        border: none;\n",
       "        /* Needs to be in here for Safari polyfill so background images work as expected. */\n",
       "        background-size: auto;\n",
       "    }\n",
       "    progress:not([value]), progress:not([value])::-webkit-progress-bar {\n",
       "        background: repeating-linear-gradient(45deg, #7e7e7e, #7e7e7e 10px, #5c5c5c 10px, #5c5c5c 20px);\n",
       "    }\n",
       "    .progress-bar-interrupted, .progress-bar-interrupted::-webkit-progress-bar {\n",
       "        background: #F44336;\n",
       "    }\n",
       "</style>\n"
      ],
      "text/plain": [
       "<IPython.core.display.HTML object>"
      ]
     },
     "metadata": {},
     "output_type": "display_data"
    },
    {
     "data": {
      "text/html": [
       "<table border=\"1\" class=\"dataframe\">\n",
       "  <thead>\n",
       "    <tr style=\"text-align: left;\">\n",
       "      <th>epoch</th>\n",
       "      <th>train_loss</th>\n",
       "      <th>valid_loss</th>\n",
       "      <th>accuracy</th>\n",
       "      <th>f_beta</th>\n",
       "      <th>time</th>\n",
       "    </tr>\n",
       "  </thead>\n",
       "  <tbody>\n",
       "    <tr>\n",
       "      <td>0</td>\n",
       "      <td>1.580867</td>\n",
       "      <td>1.605535</td>\n",
       "      <td>0.413611</td>\n",
       "      <td>0.398409</td>\n",
       "      <td>00:12</td>\n",
       "    </tr>\n",
       "    <tr>\n",
       "      <td>1</td>\n",
       "      <td>1.466913</td>\n",
       "      <td>1.539026</td>\n",
       "      <td>0.439167</td>\n",
       "      <td>0.426177</td>\n",
       "      <td>00:12</td>\n",
       "    </tr>\n",
       "  </tbody>\n",
       "</table>"
      ],
      "text/plain": [
       "<IPython.core.display.HTML object>"
      ]
     },
     "metadata": {},
     "output_type": "display_data"
    }
   ],
   "source": [
    "learn_c.fit_one_cycle(2, lr, moms=(0.8,0.7))"
   ]
  },
  {
   "cell_type": "code",
   "execution_count": 32,
   "id": "c4b950b6",
   "metadata": {
    "execution": {
     "iopub.execute_input": "2023-06-10T03:42:31.103165Z",
     "iopub.status.busy": "2023-06-10T03:42:31.102614Z",
     "iopub.status.idle": "2023-06-10T03:42:55.872819Z",
     "shell.execute_reply": "2023-06-10T03:42:55.871556Z"
    },
    "papermill": {
     "duration": 24.789928,
     "end_time": "2023-06-10T03:42:55.876495",
     "exception": false,
     "start_time": "2023-06-10T03:42:31.086567",
     "status": "completed"
    },
    "tags": []
   },
   "outputs": [
    {
     "data": {
      "text/html": [
       "\n",
       "<style>\n",
       "    /* Turns off some styling */\n",
       "    progress {\n",
       "        /* gets rid of default border in Firefox and Opera. */\n",
       "        border: none;\n",
       "        /* Needs to be in here for Safari polyfill so background images work as expected. */\n",
       "        background-size: auto;\n",
       "    }\n",
       "    progress:not([value]), progress:not([value])::-webkit-progress-bar {\n",
       "        background: repeating-linear-gradient(45deg, #7e7e7e, #7e7e7e 10px, #5c5c5c 10px, #5c5c5c 20px);\n",
       "    }\n",
       "    .progress-bar-interrupted, .progress-bar-interrupted::-webkit-progress-bar {\n",
       "        background: #F44336;\n",
       "    }\n",
       "</style>\n"
      ],
      "text/plain": [
       "<IPython.core.display.HTML object>"
      ]
     },
     "metadata": {},
     "output_type": "display_data"
    },
    {
     "data": {
      "text/html": [
       "<table border=\"1\" class=\"dataframe\">\n",
       "  <thead>\n",
       "    <tr style=\"text-align: left;\">\n",
       "      <th>epoch</th>\n",
       "      <th>train_loss</th>\n",
       "      <th>valid_loss</th>\n",
       "      <th>accuracy</th>\n",
       "      <th>f_beta</th>\n",
       "      <th>time</th>\n",
       "    </tr>\n",
       "  </thead>\n",
       "  <tbody>\n",
       "    <tr>\n",
       "      <td>0</td>\n",
       "      <td>1.412611</td>\n",
       "      <td>1.531011</td>\n",
       "      <td>0.444630</td>\n",
       "      <td>0.431374</td>\n",
       "      <td>00:12</td>\n",
       "    </tr>\n",
       "    <tr>\n",
       "      <td>1</td>\n",
       "      <td>1.388112</td>\n",
       "      <td>1.502289</td>\n",
       "      <td>0.453519</td>\n",
       "      <td>0.442062</td>\n",
       "      <td>00:12</td>\n",
       "    </tr>\n",
       "  </tbody>\n",
       "</table>"
      ],
      "text/plain": [
       "<IPython.core.display.HTML object>"
      ]
     },
     "metadata": {},
     "output_type": "display_data"
    }
   ],
   "source": [
    "learn_c.fit_one_cycle(2, lr, moms=(0.8,0.7))"
   ]
  },
  {
   "cell_type": "code",
   "execution_count": 33,
   "id": "a823954b",
   "metadata": {
    "execution": {
     "iopub.execute_input": "2023-06-10T03:42:55.912118Z",
     "iopub.status.busy": "2023-06-10T03:42:55.911577Z",
     "iopub.status.idle": "2023-06-10T03:43:27.176868Z",
     "shell.execute_reply": "2023-06-10T03:43:27.175585Z"
    },
    "papermill": {
     "duration": 31.283862,
     "end_time": "2023-06-10T03:43:27.179186",
     "exception": false,
     "start_time": "2023-06-10T03:42:55.895324",
     "status": "completed"
    },
    "tags": []
   },
   "outputs": [
    {
     "data": {
      "text/html": [
       "\n",
       "<style>\n",
       "    /* Turns off some styling */\n",
       "    progress {\n",
       "        /* gets rid of default border in Firefox and Opera. */\n",
       "        border: none;\n",
       "        /* Needs to be in here for Safari polyfill so background images work as expected. */\n",
       "        background-size: auto;\n",
       "    }\n",
       "    progress:not([value]), progress:not([value])::-webkit-progress-bar {\n",
       "        background: repeating-linear-gradient(45deg, #7e7e7e, #7e7e7e 10px, #5c5c5c 10px, #5c5c5c 20px);\n",
       "    }\n",
       "    .progress-bar-interrupted, .progress-bar-interrupted::-webkit-progress-bar {\n",
       "        background: #F44336;\n",
       "    }\n",
       "</style>\n"
      ],
      "text/plain": [
       "<IPython.core.display.HTML object>"
      ]
     },
     "metadata": {},
     "output_type": "display_data"
    },
    {
     "data": {
      "text/html": [
       "<table border=\"1\" class=\"dataframe\">\n",
       "  <thead>\n",
       "    <tr style=\"text-align: left;\">\n",
       "      <th>epoch</th>\n",
       "      <th>train_loss</th>\n",
       "      <th>valid_loss</th>\n",
       "      <th>accuracy</th>\n",
       "      <th>f_beta</th>\n",
       "      <th>time</th>\n",
       "    </tr>\n",
       "  </thead>\n",
       "  <tbody>\n",
       "    <tr>\n",
       "      <td>0</td>\n",
       "      <td>1.290835</td>\n",
       "      <td>1.440325</td>\n",
       "      <td>0.474722</td>\n",
       "      <td>0.466060</td>\n",
       "      <td>00:15</td>\n",
       "    </tr>\n",
       "    <tr>\n",
       "      <td>1</td>\n",
       "      <td>1.210984</td>\n",
       "      <td>1.414722</td>\n",
       "      <td>0.486481</td>\n",
       "      <td>0.478640</td>\n",
       "      <td>00:15</td>\n",
       "    </tr>\n",
       "  </tbody>\n",
       "</table>"
      ],
      "text/plain": [
       "<IPython.core.display.HTML object>"
      ]
     },
     "metadata": {},
     "output_type": "display_data"
    }
   ],
   "source": [
    "learn_c.freeze_to(-2)\n",
    "learn_c.fit_one_cycle(2, slice(lr/(2.6**4),lr), moms=(0.8,0.7))"
   ]
  },
  {
   "cell_type": "code",
   "execution_count": 34,
   "id": "31f39b5c",
   "metadata": {
    "execution": {
     "iopub.execute_input": "2023-06-10T03:43:27.205713Z",
     "iopub.status.busy": "2023-06-10T03:43:27.205201Z",
     "iopub.status.idle": "2023-06-10T03:44:06.949523Z",
     "shell.execute_reply": "2023-06-10T03:44:06.948276Z"
    },
    "papermill": {
     "duration": 39.760203,
     "end_time": "2023-06-10T03:44:06.951896",
     "exception": false,
     "start_time": "2023-06-10T03:43:27.191693",
     "status": "completed"
    },
    "tags": []
   },
   "outputs": [
    {
     "data": {
      "text/html": [
       "\n",
       "<style>\n",
       "    /* Turns off some styling */\n",
       "    progress {\n",
       "        /* gets rid of default border in Firefox and Opera. */\n",
       "        border: none;\n",
       "        /* Needs to be in here for Safari polyfill so background images work as expected. */\n",
       "        background-size: auto;\n",
       "    }\n",
       "    progress:not([value]), progress:not([value])::-webkit-progress-bar {\n",
       "        background: repeating-linear-gradient(45deg, #7e7e7e, #7e7e7e 10px, #5c5c5c 10px, #5c5c5c 20px);\n",
       "    }\n",
       "    .progress-bar-interrupted, .progress-bar-interrupted::-webkit-progress-bar {\n",
       "        background: #F44336;\n",
       "    }\n",
       "</style>\n"
      ],
      "text/plain": [
       "<IPython.core.display.HTML object>"
      ]
     },
     "metadata": {},
     "output_type": "display_data"
    },
    {
     "data": {
      "text/html": [
       "<table border=\"1\" class=\"dataframe\">\n",
       "  <thead>\n",
       "    <tr style=\"text-align: left;\">\n",
       "      <th>epoch</th>\n",
       "      <th>train_loss</th>\n",
       "      <th>valid_loss</th>\n",
       "      <th>accuracy</th>\n",
       "      <th>f_beta</th>\n",
       "      <th>time</th>\n",
       "    </tr>\n",
       "  </thead>\n",
       "  <tbody>\n",
       "    <tr>\n",
       "      <td>0</td>\n",
       "      <td>1.187844</td>\n",
       "      <td>1.416083</td>\n",
       "      <td>0.489259</td>\n",
       "      <td>0.482407</td>\n",
       "      <td>00:19</td>\n",
       "    </tr>\n",
       "    <tr>\n",
       "      <td>1</td>\n",
       "      <td>1.121800</td>\n",
       "      <td>1.403149</td>\n",
       "      <td>0.495000</td>\n",
       "      <td>0.486616</td>\n",
       "      <td>00:19</td>\n",
       "    </tr>\n",
       "  </tbody>\n",
       "</table>"
      ],
      "text/plain": [
       "<IPython.core.display.HTML object>"
      ]
     },
     "metadata": {},
     "output_type": "display_data"
    }
   ],
   "source": [
    "learn_c.freeze_to(-3)\n",
    "learn_c.fit_one_cycle(2, slice(lr/2/(2.6**4),lr/2), moms=(0.8,0.7))"
   ]
  },
  {
   "cell_type": "code",
   "execution_count": 35,
   "id": "47f96fbe",
   "metadata": {
    "execution": {
     "iopub.execute_input": "2023-06-10T03:44:06.979340Z",
     "iopub.status.busy": "2023-06-10T03:44:06.978780Z",
     "iopub.status.idle": "2023-06-10T03:44:32.755382Z",
     "shell.execute_reply": "2023-06-10T03:44:32.753674Z"
    },
    "papermill": {
     "duration": 25.793211,
     "end_time": "2023-06-10T03:44:32.757999",
     "exception": false,
     "start_time": "2023-06-10T03:44:06.964788",
     "status": "completed"
    },
    "tags": []
   },
   "outputs": [
    {
     "data": {
      "text/html": [
       "\n",
       "<style>\n",
       "    /* Turns off some styling */\n",
       "    progress {\n",
       "        /* gets rid of default border in Firefox and Opera. */\n",
       "        border: none;\n",
       "        /* Needs to be in here for Safari polyfill so background images work as expected. */\n",
       "        background-size: auto;\n",
       "    }\n",
       "    progress:not([value]), progress:not([value])::-webkit-progress-bar {\n",
       "        background: repeating-linear-gradient(45deg, #7e7e7e, #7e7e7e 10px, #5c5c5c 10px, #5c5c5c 20px);\n",
       "    }\n",
       "    .progress-bar-interrupted, .progress-bar-interrupted::-webkit-progress-bar {\n",
       "        background: #F44336;\n",
       "    }\n",
       "</style>\n"
      ],
      "text/plain": [
       "<IPython.core.display.HTML object>"
      ]
     },
     "metadata": {},
     "output_type": "display_data"
    },
    {
     "data": {
      "text/html": [
       "<table border=\"1\" class=\"dataframe\">\n",
       "  <thead>\n",
       "    <tr style=\"text-align: left;\">\n",
       "      <th>epoch</th>\n",
       "      <th>train_loss</th>\n",
       "      <th>valid_loss</th>\n",
       "      <th>accuracy</th>\n",
       "      <th>f_beta</th>\n",
       "      <th>time</th>\n",
       "    </tr>\n",
       "  </thead>\n",
       "  <tbody>\n",
       "    <tr>\n",
       "      <td>0</td>\n",
       "      <td>1.054598</td>\n",
       "      <td>1.389958</td>\n",
       "      <td>0.498981</td>\n",
       "      <td>0.492284</td>\n",
       "      <td>00:25</td>\n",
       "    </tr>\n",
       "  </tbody>\n",
       "</table>"
      ],
      "text/plain": [
       "<IPython.core.display.HTML object>"
      ]
     },
     "metadata": {},
     "output_type": "display_data"
    }
   ],
   "source": [
    "learn_c.unfreeze()\n",
    "learn_c.fit_one_cycle(1, slice(lr/10/(2.6**4),lr/10), moms=(0.8,0.7))"
   ]
  },
  {
   "cell_type": "code",
   "execution_count": 36,
   "id": "02001649",
   "metadata": {
    "execution": {
     "iopub.execute_input": "2023-06-10T03:44:32.788004Z",
     "iopub.status.busy": "2023-06-10T03:44:32.787501Z",
     "iopub.status.idle": "2023-06-10T03:44:33.411668Z",
     "shell.execute_reply": "2023-06-10T03:44:33.410598Z"
    },
    "papermill": {
     "duration": 0.640416,
     "end_time": "2023-06-10T03:44:33.413864",
     "exception": false,
     "start_time": "2023-06-10T03:44:32.773448",
     "status": "completed"
    },
    "tags": []
   },
   "outputs": [],
   "source": [
    "learn_c.save('awdlstm_train-imslp_finetune-target_clas')"
   ]
  },
  {
   "cell_type": "code",
   "execution_count": 37,
   "id": "3546e5d2",
   "metadata": {
    "execution": {
     "iopub.execute_input": "2023-06-10T03:44:33.442252Z",
     "iopub.status.busy": "2023-06-10T03:44:33.441766Z",
     "iopub.status.idle": "2023-06-10T03:44:33.841192Z",
     "shell.execute_reply": "2023-06-10T03:44:33.840050Z"
    },
    "papermill": {
     "duration": 0.41489,
     "end_time": "2023-06-10T03:44:33.843160",
     "exception": false,
     "start_time": "2023-06-10T03:44:33.428270",
     "status": "completed"
    },
    "tags": []
   },
   "outputs": [
    {
     "data": {
      "text/plain": [
       "RNNLearner(data=TextClasDataBunch;\n",
       "\n",
       "Train: LabelList (32400 items)\n",
       "x: TextList\n",
       "xxbos 274878955520 34360262656 17179869440 1099511627776 549755813888 274877906944 137438953472 68719476736 8590458880 34360852480 137438953472 274913558528 8796093022208 4398046511104 2199057891328 2199023255552 1099680448512 1099511627776 549756076032 137438953472 156766339072 68719476736 137438953472 141733920768 274877906944 137438953472 1099511758848 137438953472 1108101824512 68719476736 xxunk 68719476736 2097152 180388888576 2097152 317829677056 4194304 2097152 592705748992 1048576 8590458880 xxunk 524288 xxunk 592705748992 592705519616 1048576 317828104192 575525650432 285615587328 138512695296 2048 9663677440 2048 36775657472 19327352832 xxunk 294205390848 262144 142807662592 18210679160832 1099511627776 1133871366144 2199023255552,xxbos 34359738368 68736778240 549755813888 2199023255552 274877906944 549773115392 2199023255552 8796093022208 1099511627776 2199023288320 8796093022208 70368744177664 4398046511104 8796110323712 70368744177664 281474976710656 35184372088832 70368761479168 281474976710656 1125899906842624 140737488355328 2199040557056 8796093022208 70368744177664 4398046511104 8796093022208 70368744177664 281474994012160 140737488355328 70368744177664 35184372088832 70368761479168 2199023255552 35184372088832 17592186044416 8589934592 8796094070784 32768 84934656 84934656 84934656 4398046576640 42991616 18014398509547520 42991616 xxunk 1099511627776 42991616 70368744177664 140737531346944 562949953421312 8796093022208 17592229036032 140737488355328 2199023255552 4398046511104 17592186044416 549755813888 140737488420864 562949953421312 8796093022208 17592229036032 140737488355328 2199023255552,xxbos xxunk 1099511889920 738871814520832 1099511889920 79164837855232 1099511889920 8590458880 4294967296 1099511627776 17592186044416 4398088454144 17592186044416 2199040557056 17592186044416 1099520278528 17592186044416 137439084544 17592186044416 4398088454144 17592186044416 2199041081344 17592186044416 1099520278528 17592186044416 137438953472 2048 17592186052608 140737488355328 35184372105216 140737488355328 xxunk 17592186052608 17592186077184 70368744179712 17592186175488 131072 1024 8796093104128 281474976710656 70368744308736 35184372088832 17592186044416 8796093022208 4398046642176 17592186044416 70368744177664 281474976710656 140737488617472 70368744177664 35184372088832 17592186130432 8796093022208 4398046511104 8796093022208 17592186044416 8796093022208 4398046511104 2199023255552 1099511660800 4398046511104 17592186044416 140737488617472 70368744177664 17592186044416,xxbos 17592186142720 35184372088832 70368744212480 35184372088832 2199023276032 281474977234944 562949954469888 1125899908939776 562949954469888 281474977234944 140737488617472 70368744308736 35184372154368 17592186077184 8796093038592 4398046519296 2199023259648 1099511629824 549755814912 524288 274880004096 137440002048 68720001024 34360000512 17180000256 8590000128 4295000064 2147500032 1073750016 1099511889920 xxunk 4398046511104 163840 4295491584 1099558813696 4398046642176 xxunk 4398046511104 xxunk 4398046773248 8796179005440 35184372088832 1099597611008 35184372350976 70368830160896 35184372088832 281475064791040 17592186044416 188743680 17592186044416 35184460169216 17592186044416 35184716021760 140737488617472 xxunk 140737488486400 xxunk 140737488617472 35184372219904 558346272768 4947802324992 8796093022208 262144 xxunk,xxbos 137438953472 xxunk xxunk 274877906944 274877906944 xxunk 274877906944 274877906944 352187319296 1241245548544 1236951629824 524288 528384 687195031552 1099511627776 549755813888 151257088 429496993792 704374636544 264192 1382979469312 558345764864 1024 xxunk 1099511627776 16640 274878171136 70368887832576 5497559203840 5635005480960 4398046511104 xxunk 1236950581248 11063835754496 11063853056000 2080 154618822656 549755813888 5772436635648 274877906944 270336 2199023272064 xxunk 4210688 1099511627776 8796093022208 8589934592 8796093022208 4398046511104 5497558269952 8796093022208 4398046511104 17592186044416 4398046511104 4398046511104 xxunk 2199023255552 8796093038592 4194304 4398190166016 9070970929152 140737488355328 17592186175488 17592186044416\n",
       "y: CategoryList\n",
       "Scriabin,Chopin,Haydn,Schubert,Scriabin\n",
       "Path: /home/kdey/.fastai/data/bscore_lm;\n",
       "\n",
       "Valid: LabelList (10800 items)\n",
       "x: TextList\n",
       "xxbos 2199023255552 2199023255552 4398046511104 8796093022208 8796093022208 17592186044416 17592186308608 35184372088832 70368744177664 70368744177664 140737488487424 264192 132096 274878171136 1374390059008 39857296506880 xxunk 17179869184 34359738368 xxunk 68719476736 171798691840 68719476736 137438953472 274877906944 274877906944 549755813888 xxunk 1099511627776 2199023255552 xxunk 132096 68096 132096 4398046546176 2199023255552 4398046511104 4398046546176 8796093022208 8796093022208 17592186060928 35184372088832 35184372088832 35184372088832 xxunk 140737488355328 140737488355328 140737488355328 1374390059008 44530220924928 xxunk 2199023255552 4398046511104 xxunk 8796093022208 4398046511104 xxunk 32 35184372088832 35184372088832 xxunk 140737488355328 281474976710656 281474976710656,xxbos 65536 1099511631872 16384 2199023255808 4096 16384 32768 4096 16384 32768 584115556352 16384 32768 4096 16384 32768 584115556352 16384 32768 4096 16384 32768 2199023257600 1133871366400 2048 8192 34816 8192 32768 1133871368192 8192 32768 584115554304 8192 32768 309237647360 8192 32768 2048 8192 32768 309237645568 2048 8192 32768 2048 8192 34359771136 171798693888 8192 32768 2048 8192 32768 309237647360 8192 32768 2048 8192 32768 256 2048 4096 32768,xxbos 262144 36283900493824 33554432 70918499991552 72567771627520 33554432 2748795846656 2473905356800 33554432 2336462274560 2748779134976 4194304 1374423089152 1374423089152 4194304 8590000128 17179873280 65536 2097152 17188257792 68719476736 137438953472 274877906944 1099511627776 2199023255552 4398583382016 8388608 4398047559680 8589934592 xxunk 8590458880 10995116310528 43980467208192 139264 17179873280 65536 2097152 17188257792 68719476736 137438953472 274877906944 1099511627776 2199023255552 4398047559680 8388608 0 17592186044416 0 562949986975744 281474977234944 70368777732096 140737488355328 xxunk 33554432 1099511627776 xxunk 2199023255552 290271203950592 65536 2097152 290271203950592 0 567347999932416 580542173020160,xxbos 32768 xxunk 8192 567348167704576 567347999932416 4432406777856 67108864 4415234768896 2216203124736 2216270233600 524288 xxunk 4432406249472 9139690438912 20971520 9139690536960 9139690405888 18279401783296 32768 18279401783296 9105330667520 2199023779840 xxunk xxunk xxunk xxunk 1048576 167772160 262144 167772160 274877939712 5102421147648 8192 xxunk 4432406249472 4432406777856 67108864 4432414638080 2216203124736 2216270233600 524288 2216270233600 4432406249472 xxunk 20971520 9139690536960 9139690405888 18279401783296 18279401783296 9139690405888 9139690670080 xxunk xxunk xxunk 262144 33554432 66048 176160768 1048576 xxunk 262144 4432582410240 8864812498944 20478404075584,xxbos 16384 35184372109312 17592186044416 35184372088832 8796093022208 2199023341568 4398046511104 8796093022208 17592186306560 70368744177664 34359738368 68719476736 137438953472 274877906944 549755813888 1099511627776 1099512152064 2199023255552 1099511627776 2199023255552 1099511627776 2199023255552 1099515822080 2199023255552 1099511627776 2199023255552 1099511627776 2199023255552 1099512676352 2199023779840 4398046511104 2199023255552 1099511627776 2199023255552 549755813888 156804579328 8590458880 70368744177664 32768 2097152 2621440 2199023255552 1099511627776 1374389534720 549755813888 1099511627776 4672924418048 68730486784 137438953472 274877906944 549755813888 1099511627776 2199023255552 4398046511104 8796093022208 17592186044416 70368744177664 281474976710656 140737488355328 281474976710656 281474976710656 140737488355328 281474976710656 16384\n",
       "y: CategoryList\n",
       "Liszt,Schumann,Scriabin,Liszt,Beethoven\n",
       "Path: /home/kdey/.fastai/data/bscore_lm;\n",
       "\n",
       "Test: None, model=SequentialRNN(\n",
       "  (0): MultiBatchEncoder(\n",
       "    (module): AWD_LSTM(\n",
       "      (encoder): Embedding(21456, 400, padding_idx=1)\n",
       "      (encoder_dp): EmbeddingDropout(\n",
       "        (emb): Embedding(21456, 400, padding_idx=1)\n",
       "      )\n",
       "      (rnns): ModuleList(\n",
       "        (0): WeightDropout(\n",
       "          (module): LSTM(400, 1152, batch_first=True)\n",
       "        )\n",
       "        (1): WeightDropout(\n",
       "          (module): LSTM(1152, 1152, batch_first=True)\n",
       "        )\n",
       "        (2): WeightDropout(\n",
       "          (module): LSTM(1152, 400, batch_first=True)\n",
       "        )\n",
       "      )\n",
       "      (input_dp): RNNDropout()\n",
       "      (hidden_dps): ModuleList(\n",
       "        (0): RNNDropout()\n",
       "        (1): RNNDropout()\n",
       "        (2): RNNDropout()\n",
       "      )\n",
       "    )\n",
       "  )\n",
       "  (1): PoolingLinearClassifier(\n",
       "    (layers): Sequential(\n",
       "      (0): BatchNorm1d(1200, eps=1e-05, momentum=0.1, affine=True, track_running_stats=True)\n",
       "      (1): Dropout(p=0.2, inplace=False)\n",
       "      (2): Linear(in_features=1200, out_features=50, bias=True)\n",
       "      (3): ReLU(inplace=True)\n",
       "      (4): BatchNorm1d(50, eps=1e-05, momentum=0.1, affine=True, track_running_stats=True)\n",
       "      (5): Dropout(p=0.1, inplace=False)\n",
       "      (6): Linear(in_features=50, out_features=9, bias=True)\n",
       "    )\n",
       "  )\n",
       "), opt_func=functools.partial(<class 'torch.optim.adam.Adam'>, betas=(0.9, 0.99)), loss_func=FlattenedLoss of CrossEntropyLoss(), metrics=[<function accuracy at 0x7f1100add320>, FBeta(average='macro', pos_label=1, eps=1e-09, beta=1)], true_wd=True, bn_wd=True, wd=0.01, train_bn=True, path=PosixPath('/home/kdey/.fastai/data/bscore_lm'), model_dir='models', callback_fns=[functools.partial(<class 'fastai.basic_train.Recorder'>, add_time=True, silent=False)], callbacks=[RNNTrainer\n",
       "learn: ...\n",
       "alpha: 2.0\n",
       "beta: 1.0], layer_groups=[Sequential(\n",
       "  (0): Embedding(21456, 400, padding_idx=1)\n",
       "  (1): EmbeddingDropout(\n",
       "    (emb): Embedding(21456, 400, padding_idx=1)\n",
       "  )\n",
       "), Sequential(\n",
       "  (0): WeightDropout(\n",
       "    (module): LSTM(400, 1152, batch_first=True)\n",
       "  )\n",
       "  (1): RNNDropout()\n",
       "), Sequential(\n",
       "  (0): WeightDropout(\n",
       "    (module): LSTM(1152, 1152, batch_first=True)\n",
       "  )\n",
       "  (1): RNNDropout()\n",
       "), Sequential(\n",
       "  (0): WeightDropout(\n",
       "    (module): LSTM(1152, 400, batch_first=True)\n",
       "  )\n",
       "  (1): RNNDropout()\n",
       "), Sequential(\n",
       "  (0): PoolingLinearClassifier(\n",
       "    (layers): Sequential(\n",
       "      (0): BatchNorm1d(1200, eps=1e-05, momentum=0.1, affine=True, track_running_stats=True)\n",
       "      (1): Dropout(p=0.2, inplace=False)\n",
       "      (2): Linear(in_features=1200, out_features=50, bias=True)\n",
       "      (3): ReLU(inplace=True)\n",
       "      (4): BatchNorm1d(50, eps=1e-05, momentum=0.1, affine=True, track_running_stats=True)\n",
       "      (5): Dropout(p=0.1, inplace=False)\n",
       "      (6): Linear(in_features=50, out_features=9, bias=True)\n",
       "    )\n",
       "  )\n",
       ")], add_time=True, silent=False)"
      ]
     },
     "execution_count": 37,
     "metadata": {},
     "output_type": "execute_result"
    }
   ],
   "source": [
    "learn_c.load('awdlstm_train-imslp_finetune-target_clas')"
   ]
  },
  {
   "attachments": {},
   "cell_type": "markdown",
   "id": "c7da05db",
   "metadata": {
    "papermill": {
     "duration": 0.012626,
     "end_time": "2023-06-10T03:44:33.869368",
     "exception": false,
     "start_time": "2023-06-10T03:44:33.856742",
     "status": "completed"
    },
    "tags": []
   },
   "source": [
    "### Evaluate Classifier"
   ]
  },
  {
   "attachments": {},
   "cell_type": "markdown",
   "id": "7bd19c0d",
   "metadata": {
    "papermill": {
     "duration": 0.012483,
     "end_time": "2023-06-10T03:44:33.894422",
     "exception": false,
     "start_time": "2023-06-10T03:44:33.881939",
     "status": "completed"
    },
    "tags": []
   },
   "source": [
    "Evaluate on the proxy task -- classifying fixed-length chunks of bootleg score features."
   ]
  },
  {
   "cell_type": "code",
   "execution_count": 38,
   "id": "a6cac532",
   "metadata": {
    "execution": {
     "iopub.execute_input": "2023-06-10T03:44:33.921358Z",
     "iopub.status.busy": "2023-06-10T03:44:33.920870Z",
     "iopub.status.idle": "2023-06-10T03:44:47.498807Z",
     "shell.execute_reply": "2023-06-10T03:44:47.497655Z"
    },
    "papermill": {
     "duration": 13.595414,
     "end_time": "2023-06-10T03:44:47.502391",
     "exception": false,
     "start_time": "2023-06-10T03:44:33.906977",
     "status": "completed"
    },
    "tags": []
   },
   "outputs": [
    {
     "data": {
      "text/html": [
       "\n",
       "<style>\n",
       "    /* Turns off some styling */\n",
       "    progress {\n",
       "        /* gets rid of default border in Firefox and Opera. */\n",
       "        border: none;\n",
       "        /* Needs to be in here for Safari polyfill so background images work as expected. */\n",
       "        background-size: auto;\n",
       "    }\n",
       "    progress:not([value]), progress:not([value])::-webkit-progress-bar {\n",
       "        background: repeating-linear-gradient(45deg, #7e7e7e, #7e7e7e 10px, #5c5c5c 10px, #5c5c5c 20px);\n",
       "    }\n",
       "    .progress-bar-interrupted, .progress-bar-interrupted::-webkit-progress-bar {\n",
       "        background: #F44336;\n",
       "    }\n",
       "</style>\n"
      ],
      "text/plain": [
       "<IPython.core.display.HTML object>"
      ]
     },
     "metadata": {},
     "output_type": "display_data"
    },
    {
     "data": {
      "text/html": [],
      "text/plain": [
       "<IPython.core.display.HTML object>"
      ]
     },
     "metadata": {},
     "output_type": "display_data"
    },
    {
     "data": {
      "text/html": [
       "\n",
       "<style>\n",
       "    /* Turns off some styling */\n",
       "    progress {\n",
       "        /* gets rid of default border in Firefox and Opera. */\n",
       "        border: none;\n",
       "        /* Needs to be in here for Safari polyfill so background images work as expected. */\n",
       "        background-size: auto;\n",
       "    }\n",
       "    progress:not([value]), progress:not([value])::-webkit-progress-bar {\n",
       "        background: repeating-linear-gradient(45deg, #7e7e7e, #7e7e7e 10px, #5c5c5c 10px, #5c5c5c 20px);\n",
       "    }\n",
       "    .progress-bar-interrupted, .progress-bar-interrupted::-webkit-progress-bar {\n",
       "        background: #F44336;\n",
       "    }\n",
       "</style>\n"
      ],
      "text/plain": [
       "<IPython.core.display.HTML object>"
      ]
     },
     "metadata": {},
     "output_type": "display_data"
    },
    {
     "data": {
      "text/html": [],
      "text/plain": [
       "<IPython.core.display.HTML object>"
      ]
     },
     "metadata": {},
     "output_type": "display_data"
    }
   ],
   "source": [
    "data_clas_test = TextDataBunch.from_df(path, train_df, test_df, tokenizer=basicTokenizer,\n",
    "                                       vocab = data_target_lm.vocab, bs=bs, num_workers=1)"
   ]
  },
  {
   "cell_type": "code",
   "execution_count": 39,
   "id": "c1cd211e",
   "metadata": {
    "execution": {
     "iopub.execute_input": "2023-06-10T03:44:47.538991Z",
     "iopub.status.busy": "2023-06-10T03:44:47.538498Z",
     "iopub.status.idle": "2023-06-10T03:44:49.933607Z",
     "shell.execute_reply": "2023-06-10T03:44:49.931966Z"
    },
    "papermill": {
     "duration": 2.413316,
     "end_time": "2023-06-10T03:44:49.937087",
     "exception": false,
     "start_time": "2023-06-10T03:44:47.523771",
     "status": "completed"
    },
    "tags": []
   },
   "outputs": [
    {
     "data": {
      "text/html": [
       "\n",
       "<style>\n",
       "    /* Turns off some styling */\n",
       "    progress {\n",
       "        /* gets rid of default border in Firefox and Opera. */\n",
       "        border: none;\n",
       "        /* Needs to be in here for Safari polyfill so background images work as expected. */\n",
       "        background-size: auto;\n",
       "    }\n",
       "    progress:not([value]), progress:not([value])::-webkit-progress-bar {\n",
       "        background: repeating-linear-gradient(45deg, #7e7e7e, #7e7e7e 10px, #5c5c5c 10px, #5c5c5c 20px);\n",
       "    }\n",
       "    .progress-bar-interrupted, .progress-bar-interrupted::-webkit-progress-bar {\n",
       "        background: #F44336;\n",
       "    }\n",
       "</style>\n"
      ],
      "text/plain": [
       "<IPython.core.display.HTML object>"
      ]
     },
     "metadata": {},
     "output_type": "display_data"
    },
    {
     "data": {
      "text/html": [],
      "text/plain": [
       "<IPython.core.display.HTML object>"
      ]
     },
     "metadata": {},
     "output_type": "display_data"
    },
    {
     "data": {
      "text/plain": [
       "[1.4316337, tensor(0.5008), tensor(0.4866)]"
      ]
     },
     "execution_count": 39,
     "metadata": {},
     "output_type": "execute_result"
    }
   ],
   "source": [
    "learn_c.validate(data_clas_test.valid_dl)"
   ]
  },
  {
   "attachments": {},
   "cell_type": "markdown",
   "id": "58dae373",
   "metadata": {
    "papermill": {
     "duration": 0.01653,
     "end_time": "2023-06-10T03:44:49.974161",
     "exception": false,
     "start_time": "2023-06-10T03:44:49.957631",
     "status": "completed"
    },
    "tags": []
   },
   "source": [
    "Evaluate on the original task -- classifying pages of sheet music.  We can evaluate our models in two ways:\n",
    "- applying the model to a variable length sequence\n",
    "- applying the model to multiple fixed-length windows and averaging the predictions\n",
    "\n",
    "First we evaluate the model on variable length inputs.  Report results with and without applying priors.\n"
   ]
  },
  {
   "cell_type": "code",
   "execution_count": 40,
   "id": "9ece0400",
   "metadata": {
    "execution": {
     "iopub.execute_input": "2023-06-10T03:44:50.009224Z",
     "iopub.status.busy": "2023-06-10T03:44:50.008781Z",
     "iopub.status.idle": "2023-06-10T03:44:50.244970Z",
     "shell.execute_reply": "2023-06-10T03:44:50.243954Z"
    },
    "papermill": {
     "duration": 0.258158,
     "end_time": "2023-06-10T03:44:50.248768",
     "exception": false,
     "start_time": "2023-06-10T03:44:49.990610",
     "status": "completed"
    },
    "tags": []
   },
   "outputs": [],
   "source": [
    "train_fullpage_df = pd.read_csv(path/'train.fullpage.csv')\n",
    "valid_fullpage_df = pd.read_csv(path/'valid.fullpage.csv')\n",
    "test_fullpage_df = pd.read_csv(path/'test.fullpage.csv')"
   ]
  },
  {
   "cell_type": "code",
   "execution_count": 41,
   "id": "e9607075",
   "metadata": {
    "execution": {
     "iopub.execute_input": "2023-06-10T03:44:50.290892Z",
     "iopub.status.busy": "2023-06-10T03:44:50.290324Z",
     "iopub.status.idle": "2023-06-10T03:44:54.816195Z",
     "shell.execute_reply": "2023-06-10T03:44:54.815367Z"
    },
    "papermill": {
     "duration": 4.546096,
     "end_time": "2023-06-10T03:44:54.817976",
     "exception": false,
     "start_time": "2023-06-10T03:44:50.271880",
     "status": "completed"
    },
    "tags": []
   },
   "outputs": [
    {
     "data": {
      "text/html": [
       "\n",
       "<style>\n",
       "    /* Turns off some styling */\n",
       "    progress {\n",
       "        /* gets rid of default border in Firefox and Opera. */\n",
       "        border: none;\n",
       "        /* Needs to be in here for Safari polyfill so background images work as expected. */\n",
       "        background-size: auto;\n",
       "    }\n",
       "    progress:not([value]), progress:not([value])::-webkit-progress-bar {\n",
       "        background: repeating-linear-gradient(45deg, #7e7e7e, #7e7e7e 10px, #5c5c5c 10px, #5c5c5c 20px);\n",
       "    }\n",
       "    .progress-bar-interrupted, .progress-bar-interrupted::-webkit-progress-bar {\n",
       "        background: #F44336;\n",
       "    }\n",
       "</style>\n"
      ],
      "text/plain": [
       "<IPython.core.display.HTML object>"
      ]
     },
     "metadata": {},
     "output_type": "display_data"
    },
    {
     "data": {
      "text/html": [],
      "text/plain": [
       "<IPython.core.display.HTML object>"
      ]
     },
     "metadata": {},
     "output_type": "display_data"
    },
    {
     "data": {
      "text/html": [
       "\n",
       "<style>\n",
       "    /* Turns off some styling */\n",
       "    progress {\n",
       "        /* gets rid of default border in Firefox and Opera. */\n",
       "        border: none;\n",
       "        /* Needs to be in here for Safari polyfill so background images work as expected. */\n",
       "        background-size: auto;\n",
       "    }\n",
       "    progress:not([value]), progress:not([value])::-webkit-progress-bar {\n",
       "        background: repeating-linear-gradient(45deg, #7e7e7e, #7e7e7e 10px, #5c5c5c 10px, #5c5c5c 20px);\n",
       "    }\n",
       "    .progress-bar-interrupted, .progress-bar-interrupted::-webkit-progress-bar {\n",
       "        background: #F44336;\n",
       "    }\n",
       "</style>\n"
      ],
      "text/plain": [
       "<IPython.core.display.HTML object>"
      ]
     },
     "metadata": {},
     "output_type": "display_data"
    },
    {
     "data": {
      "text/html": [],
      "text/plain": [
       "<IPython.core.display.HTML object>"
      ]
     },
     "metadata": {},
     "output_type": "display_data"
    },
    {
     "data": {
      "text/html": [
       "\n",
       "<style>\n",
       "    /* Turns off some styling */\n",
       "    progress {\n",
       "        /* gets rid of default border in Firefox and Opera. */\n",
       "        border: none;\n",
       "        /* Needs to be in here for Safari polyfill so background images work as expected. */\n",
       "        background-size: auto;\n",
       "    }\n",
       "    progress:not([value]), progress:not([value])::-webkit-progress-bar {\n",
       "        background: repeating-linear-gradient(45deg, #7e7e7e, #7e7e7e 10px, #5c5c5c 10px, #5c5c5c 20px);\n",
       "    }\n",
       "    .progress-bar-interrupted, .progress-bar-interrupted::-webkit-progress-bar {\n",
       "        background: #F44336;\n",
       "    }\n",
       "</style>\n"
      ],
      "text/plain": [
       "<IPython.core.display.HTML object>"
      ]
     },
     "metadata": {},
     "output_type": "display_data"
    },
    {
     "data": {
      "text/html": [],
      "text/plain": [
       "<IPython.core.display.HTML object>"
      ]
     },
     "metadata": {},
     "output_type": "display_data"
    },
    {
     "name": "stderr",
     "output_type": "stream",
     "text": [
      "/home/kdey/micromamba/envs/pse/lib/python3.7/site-packages/fastai/core.py:299: VisibleDeprecationWarning: Creating an ndarray from ragged nested sequences (which is a list-or-tuple of lists-or-tuples-or ndarrays with different lengths or shapes) is deprecated. If you meant to do this, you must specify 'dtype=object' when creating the ndarray.\n",
      "  return np.array(a, dtype=dtype, **kwargs)\n"
     ]
    },
    {
     "data": {
      "text/html": [
       "\n",
       "<style>\n",
       "    /* Turns off some styling */\n",
       "    progress {\n",
       "        /* gets rid of default border in Firefox and Opera. */\n",
       "        border: none;\n",
       "        /* Needs to be in here for Safari polyfill so background images work as expected. */\n",
       "        background-size: auto;\n",
       "    }\n",
       "    progress:not([value]), progress:not([value])::-webkit-progress-bar {\n",
       "        background: repeating-linear-gradient(45deg, #7e7e7e, #7e7e7e 10px, #5c5c5c 10px, #5c5c5c 20px);\n",
       "    }\n",
       "    .progress-bar-interrupted, .progress-bar-interrupted::-webkit-progress-bar {\n",
       "        background: #F44336;\n",
       "    }\n",
       "</style>\n"
      ],
      "text/plain": [
       "<IPython.core.display.HTML object>"
      ]
     },
     "metadata": {},
     "output_type": "display_data"
    },
    {
     "data": {
      "text/html": [],
      "text/plain": [
       "<IPython.core.display.HTML object>"
      ]
     },
     "metadata": {},
     "output_type": "display_data"
    },
    {
     "data": {
      "text/plain": [
       "((0.49229639768600464, 0.5744680762290955),\n",
       " (0.4713035378052436, 0.5147929368592893))"
      ]
     },
     "execution_count": 41,
     "metadata": {},
     "output_type": "execute_result"
    }
   ],
   "source": [
    "(acc, acc_with_prior), (f1, f1_with_prior) = eval_models.calcAccuracy_fullpage(learn_c, path, train_fullpage_df, valid_fullpage_df, test_fullpage_df)\n",
    "(acc, acc_with_prior), (f1, f1_with_prior)"
   ]
  },
  {
   "attachments": {},
   "cell_type": "markdown",
   "id": "3362046d",
   "metadata": {
    "papermill": {
     "duration": 0.022681,
     "end_time": "2023-06-10T03:44:54.864179",
     "exception": false,
     "start_time": "2023-06-10T03:44:54.841498",
     "status": "completed"
    },
    "tags": []
   },
   "source": [
    "Now we evaluate the model by considering multiple fixed-length windows and averaging the predictions."
   ]
  },
  {
   "cell_type": "code",
   "execution_count": 42,
   "id": "3e40431d",
   "metadata": {
    "execution": {
     "iopub.execute_input": "2023-06-10T03:44:54.915953Z",
     "iopub.status.busy": "2023-06-10T03:44:54.910951Z",
     "iopub.status.idle": "2023-06-10T03:44:55.039951Z",
     "shell.execute_reply": "2023-06-10T03:44:55.039305Z"
    },
    "papermill": {
     "duration": 0.155918,
     "end_time": "2023-06-10T03:44:55.042702",
     "exception": false,
     "start_time": "2023-06-10T03:44:54.886784",
     "status": "completed"
    },
    "tags": []
   },
   "outputs": [],
   "source": [
    "test_ensemble_df = pd.read_csv(path/'test.ensemble64.csv')"
   ]
  },
  {
   "cell_type": "code",
   "execution_count": 43,
   "id": "d0bae4f1",
   "metadata": {
    "execution": {
     "iopub.execute_input": "2023-06-10T03:44:55.080546Z",
     "iopub.status.busy": "2023-06-10T03:44:55.079912Z",
     "iopub.status.idle": "2023-06-10T03:45:00.267926Z",
     "shell.execute_reply": "2023-06-10T03:45:00.266600Z"
    },
    "papermill": {
     "duration": 5.206145,
     "end_time": "2023-06-10T03:45:00.270388",
     "exception": false,
     "start_time": "2023-06-10T03:44:55.064243",
     "status": "completed"
    },
    "tags": []
   },
   "outputs": [
    {
     "data": {
      "text/html": [
       "\n",
       "<style>\n",
       "    /* Turns off some styling */\n",
       "    progress {\n",
       "        /* gets rid of default border in Firefox and Opera. */\n",
       "        border: none;\n",
       "        /* Needs to be in here for Safari polyfill so background images work as expected. */\n",
       "        background-size: auto;\n",
       "    }\n",
       "    progress:not([value]), progress:not([value])::-webkit-progress-bar {\n",
       "        background: repeating-linear-gradient(45deg, #7e7e7e, #7e7e7e 10px, #5c5c5c 10px, #5c5c5c 20px);\n",
       "    }\n",
       "    .progress-bar-interrupted, .progress-bar-interrupted::-webkit-progress-bar {\n",
       "        background: #F44336;\n",
       "    }\n",
       "</style>\n"
      ],
      "text/plain": [
       "<IPython.core.display.HTML object>"
      ]
     },
     "metadata": {},
     "output_type": "display_data"
    },
    {
     "data": {
      "text/html": [],
      "text/plain": [
       "<IPython.core.display.HTML object>"
      ]
     },
     "metadata": {},
     "output_type": "display_data"
    },
    {
     "data": {
      "text/html": [
       "\n",
       "<style>\n",
       "    /* Turns off some styling */\n",
       "    progress {\n",
       "        /* gets rid of default border in Firefox and Opera. */\n",
       "        border: none;\n",
       "        /* Needs to be in here for Safari polyfill so background images work as expected. */\n",
       "        background-size: auto;\n",
       "    }\n",
       "    progress:not([value]), progress:not([value])::-webkit-progress-bar {\n",
       "        background: repeating-linear-gradient(45deg, #7e7e7e, #7e7e7e 10px, #5c5c5c 10px, #5c5c5c 20px);\n",
       "    }\n",
       "    .progress-bar-interrupted, .progress-bar-interrupted::-webkit-progress-bar {\n",
       "        background: #F44336;\n",
       "    }\n",
       "</style>\n"
      ],
      "text/plain": [
       "<IPython.core.display.HTML object>"
      ]
     },
     "metadata": {},
     "output_type": "display_data"
    },
    {
     "data": {
      "text/html": [],
      "text/plain": [
       "<IPython.core.display.HTML object>"
      ]
     },
     "metadata": {},
     "output_type": "display_data"
    },
    {
     "data": {
      "text/html": [
       "\n",
       "<style>\n",
       "    /* Turns off some styling */\n",
       "    progress {\n",
       "        /* gets rid of default border in Firefox and Opera. */\n",
       "        border: none;\n",
       "        /* Needs to be in here for Safari polyfill so background images work as expected. */\n",
       "        background-size: auto;\n",
       "    }\n",
       "    progress:not([value]), progress:not([value])::-webkit-progress-bar {\n",
       "        background: repeating-linear-gradient(45deg, #7e7e7e, #7e7e7e 10px, #5c5c5c 10px, #5c5c5c 20px);\n",
       "    }\n",
       "    .progress-bar-interrupted, .progress-bar-interrupted::-webkit-progress-bar {\n",
       "        background: #F44336;\n",
       "    }\n",
       "</style>\n"
      ],
      "text/plain": [
       "<IPython.core.display.HTML object>"
      ]
     },
     "metadata": {},
     "output_type": "display_data"
    },
    {
     "data": {
      "text/html": [],
      "text/plain": [
       "<IPython.core.display.HTML object>"
      ]
     },
     "metadata": {},
     "output_type": "display_data"
    },
    {
     "name": "stderr",
     "output_type": "stream",
     "text": [
      "/home/kdey/micromamba/envs/pse/lib/python3.7/site-packages/fastai/core.py:299: VisibleDeprecationWarning: Creating an ndarray from ragged nested sequences (which is a list-or-tuple of lists-or-tuples-or ndarrays with different lengths or shapes) is deprecated. If you meant to do this, you must specify 'dtype=object' when creating the ndarray.\n",
      "  return np.array(a, dtype=dtype, **kwargs)\n"
     ]
    },
    {
     "data": {
      "text/html": [
       "\n",
       "<style>\n",
       "    /* Turns off some styling */\n",
       "    progress {\n",
       "        /* gets rid of default border in Firefox and Opera. */\n",
       "        border: none;\n",
       "        /* Needs to be in here for Safari polyfill so background images work as expected. */\n",
       "        background-size: auto;\n",
       "    }\n",
       "    progress:not([value]), progress:not([value])::-webkit-progress-bar {\n",
       "        background: repeating-linear-gradient(45deg, #7e7e7e, #7e7e7e 10px, #5c5c5c 10px, #5c5c5c 20px);\n",
       "    }\n",
       "    .progress-bar-interrupted, .progress-bar-interrupted::-webkit-progress-bar {\n",
       "        background: #F44336;\n",
       "    }\n",
       "</style>\n"
      ],
      "text/plain": [
       "<IPython.core.display.HTML object>"
      ]
     },
     "metadata": {},
     "output_type": "display_data"
    },
    {
     "data": {
      "text/html": [],
      "text/plain": [
       "<IPython.core.display.HTML object>"
      ]
     },
     "metadata": {},
     "output_type": "display_data"
    },
    {
     "data": {
      "text/plain": [
       "((0.5649303197860718, 0.6118855476379395),\n",
       " (0.5155983341115408, 0.505952243718363))"
      ]
     },
     "execution_count": 43,
     "metadata": {},
     "output_type": "execute_result"
    }
   ],
   "source": [
    "(acc, acc_with_prior), (f1, f1_with_prior) = eval_models.calcAccuracy_fullpage(learn_c, path, train_fullpage_df, valid_fullpage_df, test_ensemble_df, ensembled=True)\n",
    "(acc, acc_with_prior), (f1, f1_with_prior)"
   ]
  },
  {
   "attachments": {},
   "cell_type": "markdown",
   "id": "6654b8ef",
   "metadata": {
    "papermill": {
     "duration": 0.027754,
     "end_time": "2023-06-10T03:45:00.328467",
     "exception": false,
     "start_time": "2023-06-10T03:45:00.300713",
     "status": "completed"
    },
    "tags": []
   },
   "source": [
    "### Error Analysis"
   ]
  },
  {
   "cell_type": "code",
   "execution_count": 44,
   "id": "10ddd518",
   "metadata": {
    "execution": {
     "iopub.execute_input": "2023-06-10T03:45:00.378302Z",
     "iopub.status.busy": "2023-06-10T03:45:00.377812Z",
     "iopub.status.idle": "2023-06-10T03:45:02.661106Z",
     "shell.execute_reply": "2023-06-10T03:45:02.660224Z"
    },
    "papermill": {
     "duration": 2.311103,
     "end_time": "2023-06-10T03:45:02.663589",
     "exception": false,
     "start_time": "2023-06-10T03:45:00.352486",
     "status": "completed"
    },
    "tags": []
   },
   "outputs": [
    {
     "data": {
      "text/html": [
       "\n",
       "<style>\n",
       "    /* Turns off some styling */\n",
       "    progress {\n",
       "        /* gets rid of default border in Firefox and Opera. */\n",
       "        border: none;\n",
       "        /* Needs to be in here for Safari polyfill so background images work as expected. */\n",
       "        background-size: auto;\n",
       "    }\n",
       "    progress:not([value]), progress:not([value])::-webkit-progress-bar {\n",
       "        background: repeating-linear-gradient(45deg, #7e7e7e, #7e7e7e 10px, #5c5c5c 10px, #5c5c5c 20px);\n",
       "    }\n",
       "    .progress-bar-interrupted, .progress-bar-interrupted::-webkit-progress-bar {\n",
       "        background: #F44336;\n",
       "    }\n",
       "</style>\n"
      ],
      "text/plain": [
       "<IPython.core.display.HTML object>"
      ]
     },
     "metadata": {},
     "output_type": "display_data"
    },
    {
     "data": {
      "text/html": [],
      "text/plain": [
       "<IPython.core.display.HTML object>"
      ]
     },
     "metadata": {},
     "output_type": "display_data"
    }
   ],
   "source": [
    "interp = ClassificationInterpretation.from_learner(learn_c)"
   ]
  },
  {
   "cell_type": "code",
   "execution_count": 45,
   "id": "4e8a213c",
   "metadata": {
    "execution": {
     "iopub.execute_input": "2023-06-10T03:45:02.715125Z",
     "iopub.status.busy": "2023-06-10T03:45:02.714763Z",
     "iopub.status.idle": "2023-06-10T03:45:03.789177Z",
     "shell.execute_reply": "2023-06-10T03:45:03.788207Z"
    },
    "papermill": {
     "duration": 1.105202,
     "end_time": "2023-06-10T03:45:03.794617",
     "exception": false,
     "start_time": "2023-06-10T03:45:02.689415",
     "status": "completed"
    },
    "tags": []
   },
   "outputs": [
    {
     "data": {
      "image/png": "[encoded data removed]",
      "text/plain": [
       "<Figure size 1200x1200 with 1 Axes>"
      ]
     },
     "metadata": {},
     "output_type": "display_data"
    }
   ],
   "source": [
    "interp.plot_confusion_matrix(figsize=(12,12))"
   ]
  },
  {
   "cell_type": "code",
   "execution_count": null,
   "id": "21d93ce1",
   "metadata": {
    "papermill": {
     "duration": 0.019959,
     "end_time": "2023-06-10T03:45:03.840622",
     "exception": false,
     "start_time": "2023-06-10T03:45:03.820663",
     "status": "completed"
    },
    "tags": []
   },
   "outputs": [],
   "source": []
  }
 ],
 "metadata": {
  "kernelspec": {
   "display_name": "Python 3",
   "language": "python",
   "name": "python3"
  },
  "language_info": {
   "codemirror_mode": {
    "name": "ipython",
    "version": 3
   },
   "file_extension": ".py",
   "mimetype": "text/x-python",
   "name": "python",
   "nbconvert_exporter": "python",
   "pygments_lexer": "ipython3",
   "version": "3.7.12"
  },
  "papermill": {
   "default_parameters": {},
   "duration": 21064.658184,
   "end_time": "2023-06-10T03:45:05.434813",
   "environment_variables": {},
   "exception": null,
   "input_path": "03_awdlstm_ulmfit.ipynb",
   "output_path": "output.ipynb",
   "parameters": {},
   "start_time": "2023-06-09T21:54:00.776629",
   "version": "2.4.0"
  },
  "toc": {
   "base_numbering": 1,
   "nav_menu": {},
   "number_sections": false,
   "sideBar": true,
   "skip_h1_title": true,
   "title_cell": "Table of Contents",
   "title_sidebar": "Contents",
   "toc_cell": false,
   "toc_position": {},
   "toc_section_display": true,
   "toc_window_display": false
  }
 },
 "nbformat": 4,
 "nbformat_minor": 5
}
