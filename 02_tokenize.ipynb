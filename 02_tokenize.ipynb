{
 "cells": [
  {
   "cell_type": "code",
   "execution_count": 12,
   "metadata": {},
   "outputs": [],
   "source": [
    "from tokenizers import CharBPETokenizer\n",
    "from tokenizers.processors import BertProcessing\n",
    "from pathlib import Path\n",
    "from fastai.text import Config"
   ]
  },
  {
   "cell_type": "code",
   "execution_count": 18,
   "metadata": {},
   "outputs": [],
   "source": [
    "data_type = 'target' # 'target' or 'imslp'\n",
    "\n",
    "data_path = Config.data_path()\n",
    "\n",
    "name = 'bscore_lm'\n",
    "path = data_path/name\n",
    "path.mkdir(exist_ok=True, parents=True)\n",
    "\n",
    "bpe_path = path/'bpe_data'\n",
    "bpe_path.mkdir(exist_ok=True, parents=True)\n",
    "\n",
    "train_file = str(bpe_path/f'bpe_lm_{data_type}_train.txt')"
   ]
  },
  {
   "cell_type": "code",
   "execution_count": 19,
   "metadata": {},
   "outputs": [
    {
     "name": "stdout",
     "output_type": "stream",
     "text": [
      "\n",
      "\n",
      "\n"
     ]
    },
    {
     "data": {
      "text/plain": [
       "['/home/jkraprayoon/.fastai/data/bscore_lm/bpe_data/tokenizer_target/vocab.json',\n",
       " '/home/jkraprayoon/.fastai/data/bscore_lm/bpe_data/tokenizer_target/merges.txt']"
      ]
     },
     "execution_count": 19,
     "metadata": {},
     "output_type": "execute_result"
    }
   ],
   "source": [
    "tokenizer = CharBPETokenizer()\n",
    "\n",
    "# %%\n",
    "tokenizer.train([str(train_file)], vocab_size=30000, special_tokens=[\n",
    "    \"<s>\",\n",
    "    \"<pad>\",\n",
    "    \"</s>\",\n",
    "    \"<unk>\",\n",
    "    \"<mask>\",\n",
    "])\n",
    "\n",
    "# %%\n",
    "tokenizer.get_vocab_size()\n",
    "\n",
    "# %%\n",
    "# Save tokenizer\n",
    "Path(bpe_path/'tokenizer_target').mkdir(parents=True, exist_ok=True)\n",
    "# tokenizer.save_model(str(bpe_path/'tokenizer_target'))\n",
    "tokenizer.save(str(bpe_path/'tokenizer_target'))"
   ]
  }
 ],
 "metadata": {
  "kernelspec": {
   "display_name": "Python 3 (ipykernel)",
   "language": "python",
   "name": "python3"
  },
  "language_info": {
   "codemirror_mode": {
    "name": "ipython",
    "version": 3
   },
   "file_extension": ".py",
   "mimetype": "text/x-python",
   "name": "python",
   "nbconvert_exporter": "python",
   "pygments_lexer": "ipython3",
   "version": "3.7.12"
  },
  "orig_nbformat": 4
 },
 "nbformat": 4,
 "nbformat_minor": 2
}
