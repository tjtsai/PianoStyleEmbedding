{
 "cells": [
  {
   "attachments": {},
   "cell_type": "markdown",
   "metadata": {},
   "source": [
    "# GPT-2 Classifier with IMSLP LM pretraining & finetuning"
   ]
  },
  {
   "attachments": {},
   "cell_type": "markdown",
   "metadata": {},
   "source": [
    "In this notebook we will train a GPT-2 classifier for the proxy task using the IMSLP pretrained language model (trained on IMSLP, finetuned on target data) for initialization.  The language model is trained in 05_gpt2_lm.ipynb.\n",
    "\n",
    "This notebook is adapted from [this](https://towardsdatascience.com/fastai-with-transformers-bert-roberta-xlnet-xlm-distilbert-4f41ee18ecb2) blog post."
   ]
  },
  {
   "cell_type": "code",
   "execution_count": 1,
   "metadata": {},
   "outputs": [],
   "source": [
    "%matplotlib inline\n",
    "%load_ext autoreload\n",
    "%autoreload 2"
   ]
  },
  {
   "cell_type": "code",
   "execution_count": 2,
   "metadata": {},
   "outputs": [
    {
     "name": "stderr",
     "output_type": "stream",
     "text": [
      "/home/kdey/ttmp/micromamba/envs/pse/lib/python3.7/site-packages/tqdm/auto.py:21: TqdmWarning: IProgress not found. Please update jupyter and ipywidgets. See https://ipywidgets.readthedocs.io/en/stable/user_install.html\n",
      "  from .autonotebook import tqdm as notebook_tqdm\n"
     ]
    }
   ],
   "source": [
    "from transformers import GPT2Model, GPT2DoubleHeadsModel, GPT2Config\n",
    "import eval_models\n",
    "from train_utils import *"
   ]
  },
  {
   "cell_type": "code",
   "execution_count": 3,
   "metadata": {},
   "outputs": [
    {
     "name": "stdout",
     "output_type": "stream",
     "text": [
      "fastai version : 1.0.59\n",
      "transformers version : 3.0.2\n",
      "tokenizers version : 0.8.1.rc1\n"
     ]
    }
   ],
   "source": [
    "import fastai\n",
    "import transformers\n",
    "import tokenizers\n",
    "print('fastai version :', fastai.__version__)\n",
    "print('transformers version :', transformers.__version__)\n",
    "print('tokenizers version :', tokenizers.__version__)"
   ]
  },
  {
   "cell_type": "code",
   "execution_count": 4,
   "metadata": {},
   "outputs": [],
   "source": [
    "torch.cuda.set_device(1)"
   ]
  },
  {
   "attachments": {},
   "cell_type": "markdown",
   "metadata": {},
   "source": [
    "### Prep databunch"
   ]
  },
  {
   "cell_type": "code",
   "execution_count": 7,
   "metadata": {},
   "outputs": [],
   "source": [
    "bs = 64\n",
    "seed = 42\n",
    "tok_model_dir = '/home/kdey/.fastai/data/bscore_lm/bpe_data/tokenizer_imslp'\n",
    "max_seq_len = 512"
   ]
  },
  {
   "cell_type": "code",
   "execution_count": 8,
   "metadata": {},
   "outputs": [],
   "source": [
    "cust_tok = CustomTokenizer(TransformersBaseTokenizer, tok_model_dir, max_seq_len)\n",
    "transformer_base_tokenizer = TransformersBaseTokenizer(tok_model_dir, max_seq_len)\n",
    "transformer_vocab =  TransformersVocab(tokenizer = transformer_base_tokenizer._pretrained_tokenizer)"
   ]
  },
  {
   "cell_type": "code",
   "execution_count": 9,
   "metadata": {},
   "outputs": [],
   "source": [
    "pad_idx = transformer_base_tokenizer._pretrained_tokenizer.token_to_id('<pad>')\n",
    "cls_idx = transformer_base_tokenizer._pretrained_tokenizer.token_to_id('</s>')"
   ]
  },
  {
   "cell_type": "code",
   "execution_count": 11,
   "metadata": {},
   "outputs": [],
   "source": [
    "bpe_path = Path('/home/kdey/.fastai/data/bscore_lm/bpe_data')\n",
    "train_df = pd.read_csv(bpe_path/'train64.char.csv')\n",
    "valid_df = pd.read_csv(bpe_path/'valid64.char.csv')\n",
    "test_df = pd.read_csv(bpe_path/'test64.char.csv')"
   ]
  },
  {
   "cell_type": "code",
   "execution_count": 12,
   "metadata": {},
   "outputs": [
    {
     "data": {
      "text/html": [
       "\n",
       "<style>\n",
       "    /* Turns off some styling */\n",
       "    progress {\n",
       "        /* gets rid of default border in Firefox and Opera. */\n",
       "        border: none;\n",
       "        /* Needs to be in here for Safari polyfill so background images work as expected. */\n",
       "        background-size: auto;\n",
       "    }\n",
       "    progress:not([value]), progress:not([value])::-webkit-progress-bar {\n",
       "        background: repeating-linear-gradient(45deg, #7e7e7e, #7e7e7e 10px, #5c5c5c 10px, #5c5c5c 20px);\n",
       "    }\n",
       "    .progress-bar-interrupted, .progress-bar-interrupted::-webkit-progress-bar {\n",
       "        background: #F44336;\n",
       "    }\n",
       "</style>\n"
      ],
      "text/plain": [
       "<IPython.core.display.HTML object>"
      ]
     },
     "metadata": {},
     "output_type": "display_data"
    },
    {
     "data": {
      "text/html": [],
      "text/plain": [
       "<IPython.core.display.HTML object>"
      ]
     },
     "metadata": {},
     "output_type": "display_data"
    },
    {
     "data": {
      "text/html": [
       "\n",
       "<style>\n",
       "    /* Turns off some styling */\n",
       "    progress {\n",
       "        /* gets rid of default border in Firefox and Opera. */\n",
       "        border: none;\n",
       "        /* Needs to be in here for Safari polyfill so background images work as expected. */\n",
       "        background-size: auto;\n",
       "    }\n",
       "    progress:not([value]), progress:not([value])::-webkit-progress-bar {\n",
       "        background: repeating-linear-gradient(45deg, #7e7e7e, #7e7e7e 10px, #5c5c5c 10px, #5c5c5c 20px);\n",
       "    }\n",
       "    .progress-bar-interrupted, .progress-bar-interrupted::-webkit-progress-bar {\n",
       "        background: #F44336;\n",
       "    }\n",
       "</style>\n"
      ],
      "text/plain": [
       "<IPython.core.display.HTML object>"
      ]
     },
     "metadata": {},
     "output_type": "display_data"
    },
    {
     "data": {
      "text/html": [],
      "text/plain": [
       "<IPython.core.display.HTML object>"
      ]
     },
     "metadata": {},
     "output_type": "display_data"
    }
   ],
   "source": [
    "data_clas = TextDataBunch.from_df(bpe_path, train_df, valid_df, tokenizer=cust_tok, vocab=transformer_vocab,\n",
    "                                  include_bos=False, include_eos=False, pad_first=False, pad_idx=pad_idx, \n",
    "                                  bs=bs, num_workers=1)"
   ]
  },
  {
   "attachments": {},
   "cell_type": "markdown",
   "metadata": {},
   "source": [
    "### Train Classifier"
   ]
  },
  {
   "cell_type": "code",
   "execution_count": 10,
   "metadata": {},
   "outputs": [],
   "source": [
    "model_class, config_class = GPT2Model, GPT2Config"
   ]
  },
  {
   "cell_type": "code",
   "execution_count": 11,
   "metadata": {},
   "outputs": [],
   "source": [
    "lang_model_path = '/home/kdey/.fastai/data/bscore_lm/bpe_data/models/gpt2_train-imslp_finetune-target_lm'\n",
    "config = config_class.from_pretrained(lang_model_path)\n",
    "config.num_labels = data_clas.c"
   ]
  },
  {
   "cell_type": "code",
   "execution_count": 12,
   "metadata": {},
   "outputs": [],
   "source": [
    "transformer_model = model_class.from_pretrained(lang_model_path, config = config)\n",
    "gpt2_clas = GPT2Classifier(transformer_model, config, pad_idx, cls_idx)"
   ]
  },
  {
   "cell_type": "code",
   "execution_count": null,
   "metadata": {},
   "outputs": [],
   "source": [
    "# learner.destroy()\n",
    "# torch.cuda.empty_cache()"
   ]
  },
  {
   "cell_type": "code",
   "execution_count": 13,
   "metadata": {},
   "outputs": [],
   "source": [
    "learner = Learner(data_clas, gpt2_clas, metrics=[accuracy, FBeta(average = 'macro', beta=1)])"
   ]
  },
  {
   "cell_type": "code",
   "execution_count": 14,
   "metadata": {},
   "outputs": [],
   "source": [
    "list_layers = [learner.model.transformer.wte, \n",
    "               learner.model.transformer.wpe, \n",
    "               learner.model.transformer.h[0],\n",
    "               learner.model.transformer.h[1],\n",
    "               learner.model.transformer.h[2],\n",
    "               learner.model.transformer.h[3],\n",
    "               learner.model.transformer.h[4],\n",
    "               learner.model.transformer.h[5],\n",
    "               learner.model.transformer.ln_f]"
   ]
  },
  {
   "cell_type": "code",
   "execution_count": 15,
   "metadata": {},
   "outputs": [
    {
     "name": "stdout",
     "output_type": "stream",
     "text": [
      "[Sequential(\n",
      "  (0): Embedding(30000, 768)\n",
      "), Sequential(\n",
      "  (0): Embedding(514, 768)\n",
      "  (1): Dropout(p=0.1, inplace=False)\n",
      "), Sequential(\n",
      "  (0): LayerNorm((768,), eps=1e-05, elementwise_affine=True)\n",
      "  (1): Conv1D()\n",
      "  (2): Conv1D()\n",
      "  (3): Dropout(p=0.1, inplace=False)\n",
      "  (4): Dropout(p=0.1, inplace=False)\n",
      "  (5): LayerNorm((768,), eps=1e-05, elementwise_affine=True)\n",
      "  (6): Conv1D()\n",
      "  (7): Conv1D()\n",
      "  (8): Dropout(p=0.1, inplace=False)\n",
      "), Sequential(\n",
      "  (0): LayerNorm((768,), eps=1e-05, elementwise_affine=True)\n",
      "  (1): Conv1D()\n",
      "  (2): Conv1D()\n",
      "  (3): Dropout(p=0.1, inplace=False)\n",
      "  (4): Dropout(p=0.1, inplace=False)\n",
      "  (5): LayerNorm((768,), eps=1e-05, elementwise_affine=True)\n",
      "  (6): Conv1D()\n",
      "  (7): Conv1D()\n",
      "  (8): Dropout(p=0.1, inplace=False)\n",
      "), Sequential(\n",
      "  (0): LayerNorm((768,), eps=1e-05, elementwise_affine=True)\n",
      "  (1): Conv1D()\n",
      "  (2): Conv1D()\n",
      "  (3): Dropout(p=0.1, inplace=False)\n",
      "  (4): Dropout(p=0.1, inplace=False)\n",
      "  (5): LayerNorm((768,), eps=1e-05, elementwise_affine=True)\n",
      "  (6): Conv1D()\n",
      "  (7): Conv1D()\n",
      "  (8): Dropout(p=0.1, inplace=False)\n",
      "), Sequential(\n",
      "  (0): LayerNorm((768,), eps=1e-05, elementwise_affine=True)\n",
      "  (1): Conv1D()\n",
      "  (2): Conv1D()\n",
      "  (3): Dropout(p=0.1, inplace=False)\n",
      "  (4): Dropout(p=0.1, inplace=False)\n",
      "  (5): LayerNorm((768,), eps=1e-05, elementwise_affine=True)\n",
      "  (6): Conv1D()\n",
      "  (7): Conv1D()\n",
      "  (8): Dropout(p=0.1, inplace=False)\n",
      "), Sequential(\n",
      "  (0): LayerNorm((768,), eps=1e-05, elementwise_affine=True)\n",
      "  (1): Conv1D()\n",
      "  (2): Conv1D()\n",
      "  (3): Dropout(p=0.1, inplace=False)\n",
      "  (4): Dropout(p=0.1, inplace=False)\n",
      "  (5): LayerNorm((768,), eps=1e-05, elementwise_affine=True)\n",
      "  (6): Conv1D()\n",
      "  (7): Conv1D()\n",
      "  (8): Dropout(p=0.1, inplace=False)\n",
      "), Sequential(\n",
      "  (0): LayerNorm((768,), eps=1e-05, elementwise_affine=True)\n",
      "  (1): Conv1D()\n",
      "  (2): Conv1D()\n",
      "  (3): Dropout(p=0.1, inplace=False)\n",
      "  (4): Dropout(p=0.1, inplace=False)\n",
      "  (5): LayerNorm((768,), eps=1e-05, elementwise_affine=True)\n",
      "  (6): Conv1D()\n",
      "  (7): Conv1D()\n",
      "  (8): Dropout(p=0.1, inplace=False)\n",
      "), Sequential(\n",
      "  (0): LayerNorm((768,), eps=1e-05, elementwise_affine=True)\n",
      "  (1): Linear(in_features=768, out_features=9, bias=True)\n",
      "  (2): Identity()\n",
      "  (3): Dropout(p=0.1, inplace=False)\n",
      "  (4): Identity()\n",
      ")]\n"
     ]
    }
   ],
   "source": [
    "learner.split(list_layers)\n",
    "print(learner.layer_groups)"
   ]
  },
  {
   "cell_type": "code",
   "execution_count": 16,
   "metadata": {},
   "outputs": [],
   "source": [
    "seed_all(seed)"
   ]
  },
  {
   "cell_type": "code",
   "execution_count": 17,
   "metadata": {},
   "outputs": [],
   "source": [
    "learner.freeze_to(-1)"
   ]
  },
  {
   "cell_type": "code",
   "execution_count": 18,
   "metadata": {},
   "outputs": [
    {
     "data": {
      "text/plain": [
       "GPT2Classifier\n",
       "======================================================================\n",
       "Layer (type)         Output Shape         Param #    Trainable \n",
       "======================================================================\n",
       "Embedding            [151, 768]           23,040,000 False     \n",
       "______________________________________________________________________\n",
       "Embedding            [151, 768]           394,752    False     \n",
       "______________________________________________________________________\n",
       "Dropout              [151, 768]           0          False     \n",
       "______________________________________________________________________\n",
       "LayerNorm            [151, 768]           1,536      False     \n",
       "______________________________________________________________________\n",
       "Conv1D               [151, 2304]          1,771,776  False     \n",
       "______________________________________________________________________\n",
       "Conv1D               [151, 768]           590,592    False     \n",
       "______________________________________________________________________\n",
       "Dropout              [12, 151, 151]       0          False     \n",
       "______________________________________________________________________\n",
       "Dropout              [151, 768]           0          False     \n",
       "______________________________________________________________________\n",
       "LayerNorm            [151, 768]           1,536      False     \n",
       "______________________________________________________________________\n",
       "Conv1D               [151, 3072]          2,362,368  False     \n",
       "______________________________________________________________________\n",
       "Conv1D               [151, 768]           2,360,064  False     \n",
       "______________________________________________________________________\n",
       "Dropout              [151, 768]           0          False     \n",
       "______________________________________________________________________\n",
       "LayerNorm            [151, 768]           1,536      False     \n",
       "______________________________________________________________________\n",
       "Conv1D               [151, 2304]          1,771,776  False     \n",
       "______________________________________________________________________\n",
       "Conv1D               [151, 768]           590,592    False     \n",
       "______________________________________________________________________\n",
       "Dropout              [12, 151, 151]       0          False     \n",
       "______________________________________________________________________\n",
       "Dropout              [151, 768]           0          False     \n",
       "______________________________________________________________________\n",
       "LayerNorm            [151, 768]           1,536      False     \n",
       "______________________________________________________________________\n",
       "Conv1D               [151, 3072]          2,362,368  False     \n",
       "______________________________________________________________________\n",
       "Conv1D               [151, 768]           2,360,064  False     \n",
       "______________________________________________________________________\n",
       "Dropout              [151, 768]           0          False     \n",
       "______________________________________________________________________\n",
       "LayerNorm            [151, 768]           1,536      False     \n",
       "______________________________________________________________________\n",
       "Conv1D               [151, 2304]          1,771,776  False     \n",
       "______________________________________________________________________\n",
       "Conv1D               [151, 768]           590,592    False     \n",
       "______________________________________________________________________\n",
       "Dropout              [12, 151, 151]       0          False     \n",
       "______________________________________________________________________\n",
       "Dropout              [151, 768]           0          False     \n",
       "______________________________________________________________________\n",
       "LayerNorm            [151, 768]           1,536      False     \n",
       "______________________________________________________________________\n",
       "Conv1D               [151, 3072]          2,362,368  False     \n",
       "______________________________________________________________________\n",
       "Conv1D               [151, 768]           2,360,064  False     \n",
       "______________________________________________________________________\n",
       "Dropout              [151, 768]           0          False     \n",
       "______________________________________________________________________\n",
       "LayerNorm            [151, 768]           1,536      False     \n",
       "______________________________________________________________________\n",
       "Conv1D               [151, 2304]          1,771,776  False     \n",
       "______________________________________________________________________\n",
       "Conv1D               [151, 768]           590,592    False     \n",
       "______________________________________________________________________\n",
       "Dropout              [12, 151, 151]       0          False     \n",
       "______________________________________________________________________\n",
       "Dropout              [151, 768]           0          False     \n",
       "______________________________________________________________________\n",
       "LayerNorm            [151, 768]           1,536      False     \n",
       "______________________________________________________________________\n",
       "Conv1D               [151, 3072]          2,362,368  False     \n",
       "______________________________________________________________________\n",
       "Conv1D               [151, 768]           2,360,064  False     \n",
       "______________________________________________________________________\n",
       "Dropout              [151, 768]           0          False     \n",
       "______________________________________________________________________\n",
       "LayerNorm            [151, 768]           1,536      False     \n",
       "______________________________________________________________________\n",
       "Conv1D               [151, 2304]          1,771,776  False     \n",
       "______________________________________________________________________\n",
       "Conv1D               [151, 768]           590,592    False     \n",
       "______________________________________________________________________\n",
       "Dropout              [12, 151, 151]       0          False     \n",
       "______________________________________________________________________\n",
       "Dropout              [151, 768]           0          False     \n",
       "______________________________________________________________________\n",
       "LayerNorm            [151, 768]           1,536      False     \n",
       "______________________________________________________________________\n",
       "Conv1D               [151, 3072]          2,362,368  False     \n",
       "______________________________________________________________________\n",
       "Conv1D               [151, 768]           2,360,064  False     \n",
       "______________________________________________________________________\n",
       "Dropout              [151, 768]           0          False     \n",
       "______________________________________________________________________\n",
       "LayerNorm            [151, 768]           1,536      False     \n",
       "______________________________________________________________________\n",
       "Conv1D               [151, 2304]          1,771,776  False     \n",
       "______________________________________________________________________\n",
       "Conv1D               [151, 768]           590,592    False     \n",
       "______________________________________________________________________\n",
       "Dropout              [12, 151, 151]       0          False     \n",
       "______________________________________________________________________\n",
       "Dropout              [151, 768]           0          False     \n",
       "______________________________________________________________________\n",
       "LayerNorm            [151, 768]           1,536      False     \n",
       "______________________________________________________________________\n",
       "Conv1D               [151, 3072]          2,362,368  False     \n",
       "______________________________________________________________________\n",
       "Conv1D               [151, 768]           2,360,064  False     \n",
       "______________________________________________________________________\n",
       "Dropout              [151, 768]           0          False     \n",
       "______________________________________________________________________\n",
       "LayerNorm            [151, 768]           1,536      True      \n",
       "______________________________________________________________________\n",
       "Linear               [9]                  6,921      True      \n",
       "______________________________________________________________________\n",
       "Identity             [9]                  0          False     \n",
       "______________________________________________________________________\n",
       "Dropout              [768]                0          False     \n",
       "______________________________________________________________________\n",
       "Identity             [9]                  0          False     \n",
       "______________________________________________________________________\n",
       "\n",
       "Total params: 65,970,441\n",
       "Total trainable params: 8,457\n",
       "Total non-trainable params: 65,961,984\n",
       "Optimized with 'torch.optim.adam.Adam', betas=(0.9, 0.99)\n",
       "Using true weight decay as discussed in https://www.fast.ai/2018/07/02/adam-weight-decay/ \n",
       "Loss function : FlattenedLoss\n",
       "======================================================================\n",
       "Callbacks functions applied "
      ]
     },
     "execution_count": 18,
     "metadata": {},
     "output_type": "execute_result"
    }
   ],
   "source": [
    "learner.summary()"
   ]
  },
  {
   "cell_type": "code",
   "execution_count": 19,
   "metadata": {},
   "outputs": [
    {
     "data": {
      "text/html": [],
      "text/plain": [
       "<IPython.core.display.HTML object>"
      ]
     },
     "metadata": {},
     "output_type": "display_data"
    },
    {
     "name": "stdout",
     "output_type": "stream",
     "text": [
      "LR Finder is complete, type {learner_name}.recorder.plot() to see the graph.\n"
     ]
    }
   ],
   "source": [
    "learner.lr_find()"
   ]
  },
  {
   "cell_type": "code",
   "execution_count": 20,
   "metadata": {},
   "outputs": [
    {
     "name": "stdout",
     "output_type": "stream",
     "text": [
      "Min numerical gradient: 1.32E-04\n",
      "Min loss divided by 10: 2.75E-03\n"
     ]
    },
    {
     "data": {
      "image/png": "[encoded data removed]",
      "text/plain": [
       "<Figure size 432x288 with 1 Axes>"
      ]
     },
     "metadata": {
      "needs_background": "light"
     },
     "output_type": "display_data"
    }
   ],
   "source": [
    "learner.recorder.plot(suggestion=True)"
   ]
  },
  {
   "cell_type": "code",
   "execution_count": 21,
   "metadata": {},
   "outputs": [],
   "source": [
    "lr = 3e-4"
   ]
  },
  {
   "cell_type": "code",
   "execution_count": 22,
   "metadata": {},
   "outputs": [
    {
     "data": {
      "text/html": [
       "<table border=\"1\" class=\"dataframe\">\n",
       "  <thead>\n",
       "    <tr style=\"text-align: left;\">\n",
       "      <th>epoch</th>\n",
       "      <th>train_loss</th>\n",
       "      <th>valid_loss</th>\n",
       "      <th>accuracy</th>\n",
       "      <th>f_beta</th>\n",
       "      <th>time</th>\n",
       "    </tr>\n",
       "  </thead>\n",
       "  <tbody>\n",
       "    <tr>\n",
       "      <td>0</td>\n",
       "      <td>1.846581</td>\n",
       "      <td>1.776272</td>\n",
       "      <td>0.345463</td>\n",
       "      <td>0.320122</td>\n",
       "      <td>00:56</td>\n",
       "    </tr>\n",
       "    <tr>\n",
       "      <td>1</td>\n",
       "      <td>1.562470</td>\n",
       "      <td>1.549874</td>\n",
       "      <td>0.431019</td>\n",
       "      <td>0.429634</td>\n",
       "      <td>00:59</td>\n",
       "    </tr>\n",
       "    <tr>\n",
       "      <td>2</td>\n",
       "      <td>1.515785</td>\n",
       "      <td>1.487642</td>\n",
       "      <td>0.461574</td>\n",
       "      <td>0.451787</td>\n",
       "      <td>00:59</td>\n",
       "    </tr>\n",
       "    <tr>\n",
       "      <td>3</td>\n",
       "      <td>1.473837</td>\n",
       "      <td>1.481568</td>\n",
       "      <td>0.460648</td>\n",
       "      <td>0.454325</td>\n",
       "      <td>00:58</td>\n",
       "    </tr>\n",
       "  </tbody>\n",
       "</table>"
      ],
      "text/plain": [
       "<IPython.core.display.HTML object>"
      ]
     },
     "metadata": {},
     "output_type": "display_data"
    }
   ],
   "source": [
    "learner.fit_one_cycle(4, lr, moms=(0.8,0.7))"
   ]
  },
  {
   "cell_type": "code",
   "execution_count": 23,
   "metadata": {},
   "outputs": [
    {
     "data": {
      "text/html": [
       "<table border=\"1\" class=\"dataframe\">\n",
       "  <thead>\n",
       "    <tr style=\"text-align: left;\">\n",
       "      <th>epoch</th>\n",
       "      <th>train_loss</th>\n",
       "      <th>valid_loss</th>\n",
       "      <th>accuracy</th>\n",
       "      <th>f_beta</th>\n",
       "      <th>time</th>\n",
       "    </tr>\n",
       "  </thead>\n",
       "  <tbody>\n",
       "    <tr>\n",
       "      <td>0</td>\n",
       "      <td>1.072804</td>\n",
       "      <td>1.375783</td>\n",
       "      <td>0.522593</td>\n",
       "      <td>0.502316</td>\n",
       "      <td>01:11</td>\n",
       "    </tr>\n",
       "    <tr>\n",
       "      <td>1</td>\n",
       "      <td>0.714986</td>\n",
       "      <td>1.344810</td>\n",
       "      <td>0.548241</td>\n",
       "      <td>0.550827</td>\n",
       "      <td>01:10</td>\n",
       "    </tr>\n",
       "    <tr>\n",
       "      <td>2</td>\n",
       "      <td>0.513130</td>\n",
       "      <td>1.397906</td>\n",
       "      <td>0.560093</td>\n",
       "      <td>0.558634</td>\n",
       "      <td>01:11</td>\n",
       "    </tr>\n",
       "  </tbody>\n",
       "</table>"
      ],
      "text/plain": [
       "<IPython.core.display.HTML object>"
      ]
     },
     "metadata": {},
     "output_type": "display_data"
    }
   ],
   "source": [
    "learner.freeze_to(-2)\n",
    "learner.fit_one_cycle(3, slice(lr/(2.6**4),lr), moms=(0.8, 0.9))"
   ]
  },
  {
   "cell_type": "code",
   "execution_count": 25,
   "metadata": {},
   "outputs": [
    {
     "data": {
      "text/html": [
       "<table border=\"1\" class=\"dataframe\">\n",
       "  <thead>\n",
       "    <tr style=\"text-align: left;\">\n",
       "      <th>epoch</th>\n",
       "      <th>train_loss</th>\n",
       "      <th>valid_loss</th>\n",
       "      <th>accuracy</th>\n",
       "      <th>f_beta</th>\n",
       "      <th>time</th>\n",
       "    </tr>\n",
       "  </thead>\n",
       "  <tbody>\n",
       "    <tr>\n",
       "      <td>0</td>\n",
       "      <td>0.433413</td>\n",
       "      <td>1.459734</td>\n",
       "      <td>0.563796</td>\n",
       "      <td>0.563812</td>\n",
       "      <td>01:23</td>\n",
       "    </tr>\n",
       "  </tbody>\n",
       "</table>"
      ],
      "text/plain": [
       "<IPython.core.display.HTML object>"
      ]
     },
     "metadata": {},
     "output_type": "display_data"
    }
   ],
   "source": [
    "learner.freeze_to(-3)\n",
    "learner.fit_one_cycle(1, slice(lr/10/(2.6**4),lr/10), moms=(0.8, 0.9))"
   ]
  },
  {
   "cell_type": "code",
   "execution_count": 26,
   "metadata": {},
   "outputs": [],
   "source": [
    "# learner.save('gpt2_train-imslp_finetune-target_clas')\n",
    "learner.load('gpt2_train-target_clas')"
   ]
  },
  {
   "attachments": {},
   "cell_type": "markdown",
   "metadata": {},
   "source": [
    "### Evaluate Classifier"
   ]
  },
  {
   "attachments": {},
   "cell_type": "markdown",
   "metadata": {},
   "source": [
    "Evaluate on the proxy task -- classifying fixed-length chunks of bootleg score features."
   ]
  },
  {
   "cell_type": "code",
   "execution_count": 27,
   "metadata": {},
   "outputs": [
    {
     "data": {
      "text/html": [],
      "text/plain": [
       "<IPython.core.display.HTML object>"
      ]
     },
     "metadata": {},
     "output_type": "display_data"
    },
    {
     "data": {
      "text/html": [],
      "text/plain": [
       "<IPython.core.display.HTML object>"
      ]
     },
     "metadata": {},
     "output_type": "display_data"
    }
   ],
   "source": [
    "data_clas_test = TextDataBunch.from_df(bpe_path, train_df, test_df, tokenizer=cust_tok, vocab=transformer_vocab,\n",
    "                                  include_bos=False, include_eos=False, pad_first=False, pad_idx=pad_idx, \n",
    "                                  bs=bs, num_workers=1)"
   ]
  },
  {
   "cell_type": "code",
   "execution_count": 28,
   "metadata": {},
   "outputs": [
    {
     "data": {
      "text/html": [],
      "text/plain": [
       "<IPython.core.display.HTML object>"
      ]
     },
     "metadata": {},
     "output_type": "display_data"
    },
    {
     "data": {
      "text/plain": [
       "[1.4559355, tensor(0.5754), tensor(0.5760)]"
      ]
     },
     "execution_count": 28,
     "metadata": {},
     "output_type": "execute_result"
    }
   ],
   "source": [
    "learner.validate(data_clas_test.valid_dl)"
   ]
  },
  {
   "attachments": {},
   "cell_type": "markdown",
   "metadata": {},
   "source": [
    "Evaluate on the original task -- classifying pages of sheet music.  We can evaluate our models in two ways:\n",
    "- applying the model to a variable length sequence\n",
    "- applying the model to multiple fixed-length windows and averaging the predictions\n",
    "\n",
    "First we evaluate the model on variable length inputs.  Report results with and without applying priors."
   ]
  },
  {
   "cell_type": "code",
   "execution_count": 29,
   "metadata": {},
   "outputs": [],
   "source": [
    "train_fullpage_df = pd.read_csv(bpe_path/'train.fullpage.char.csv')\n",
    "valid_fullpage_df = pd.read_csv(bpe_path/'valid.fullpage.char.csv')\n",
    "test_fullpage_df = pd.read_csv(bpe_path/'test.fullpage.char.csv')"
   ]
  },
  {
   "cell_type": "code",
   "execution_count": 30,
   "metadata": {},
   "outputs": [
    {
     "data": {
      "text/html": [],
      "text/plain": [
       "<IPython.core.display.HTML object>"
      ]
     },
     "metadata": {},
     "output_type": "display_data"
    },
    {
     "data": {
      "text/html": [],
      "text/plain": [
       "<IPython.core.display.HTML object>"
      ]
     },
     "metadata": {},
     "output_type": "display_data"
    },
    {
     "data": {
      "text/html": [],
      "text/plain": [
       "<IPython.core.display.HTML object>"
      ]
     },
     "metadata": {},
     "output_type": "display_data"
    }
   ],
   "source": [
    "data_clas_test = TextDataBunch.from_df(bpe_path, train_fullpage_df, valid_fullpage_df, test_fullpage_df,\n",
    "                                       tokenizer=cust_tok, vocab=transformer_vocab, include_bos=False, \n",
    "                                       include_eos=False, pad_first=False, pad_idx=pad_idx, bs=bs, num_workers=1)"
   ]
  },
  {
   "cell_type": "code",
   "execution_count": 31,
   "metadata": {},
   "outputs": [
    {
     "data": {
      "text/html": [],
      "text/plain": [
       "<IPython.core.display.HTML object>"
      ]
     },
     "metadata": {},
     "output_type": "display_data"
    },
    {
     "data": {
      "text/plain": [
       "((0.6618098020553589, 0.6771472096443176),\n",
       " (0.6202870724054121, 0.6342140093683797))"
      ]
     },
     "execution_count": 31,
     "metadata": {},
     "output_type": "execute_result"
    }
   ],
   "source": [
    "(acc, acc_with_prior), (f1, f1_with_prior) = eval_models.calcAccuracy_fullpage(learner, bpe_path, train_fullpage_df, valid_fullpage_df, test_fullpage_df, databunch=data_clas_test)\n",
    "(acc, acc_with_prior), (f1, f1_with_prior)"
   ]
  },
  {
   "attachments": {},
   "cell_type": "markdown",
   "metadata": {},
   "source": [
    "Now we evaluate the model by considering multiple fixed-length windows and averaging the predictions."
   ]
  },
  {
   "cell_type": "code",
   "execution_count": 32,
   "metadata": {},
   "outputs": [],
   "source": [
    "test_ensemble_df = pd.read_csv(bpe_path/'test.ensemble64.char.csv')"
   ]
  },
  {
   "cell_type": "code",
   "execution_count": 33,
   "metadata": {},
   "outputs": [
    {
     "data": {
      "text/html": [],
      "text/plain": [
       "<IPython.core.display.HTML object>"
      ]
     },
     "metadata": {},
     "output_type": "display_data"
    },
    {
     "data": {
      "text/html": [],
      "text/plain": [
       "<IPython.core.display.HTML object>"
      ]
     },
     "metadata": {},
     "output_type": "display_data"
    },
    {
     "data": {
      "text/html": [],
      "text/plain": [
       "<IPython.core.display.HTML object>"
      ]
     },
     "metadata": {},
     "output_type": "display_data"
    }
   ],
   "source": [
    "data_clas_test = TextDataBunch.from_df(bpe_path, train_fullpage_df, valid_fullpage_df, test_ensemble_df,\n",
    "                                       text_cols = 'text', label_cols = 'label', tokenizer=cust_tok, \n",
    "                                       vocab=transformer_vocab, include_bos=False, include_eos=False, \n",
    "                                       pad_first=False, pad_idx=pad_idx, bs=bs, num_workers=1)"
   ]
  },
  {
   "cell_type": "code",
   "execution_count": 34,
   "metadata": {},
   "outputs": [
    {
     "data": {
      "text/html": [],
      "text/plain": [
       "<IPython.core.display.HTML object>"
      ]
     },
     "metadata": {},
     "output_type": "display_data"
    },
    {
     "data": {
      "text/plain": [
       "((0.6970859169960022, 0.6694785356521606),\n",
       " (0.6678961476493321, 0.6264857529516648))"
      ]
     },
     "execution_count": 34,
     "metadata": {},
     "output_type": "execute_result"
    }
   ],
   "source": [
    "(acc, acc_with_prior), (f1, f1_with_prior) = eval_models.calcAccuracy_fullpage(learner, bpe_path, train_fullpage_df, valid_fullpage_df, test_ensemble_df, databunch=data_clas_test, ensembled=True)\n",
    "(acc, acc_with_prior), (f1, f1_with_prior)"
   ]
  },
  {
   "attachments": {},
   "cell_type": "markdown",
   "metadata": {},
   "source": [
    "### Error Analysis"
   ]
  },
  {
   "cell_type": "code",
   "execution_count": 35,
   "metadata": {},
   "outputs": [
    {
     "data": {
      "text/html": [],
      "text/plain": [
       "<IPython.core.display.HTML object>"
      ]
     },
     "metadata": {},
     "output_type": "display_data"
    }
   ],
   "source": [
    "interp = ClassificationInterpretation.from_learner(learner)"
   ]
  },
  {
   "cell_type": "code",
   "execution_count": 36,
   "metadata": {},
   "outputs": [
    {
     "data": {
      "image/png": "[encoded data removed]",
      "text/plain": [
       "<Figure size 864x864 with 1 Axes>"
      ]
     },
     "metadata": {
      "needs_background": "light"
     },
     "output_type": "display_data"
    }
   ],
   "source": [
    "interp.plot_confusion_matrix(figsize=(12,12))"
   ]
  }
 ],
 "metadata": {
  "kernelspec": {
   "display_name": "Python 3",
   "language": "python",
   "name": "python3"
  },
  "language_info": {
   "codemirror_mode": {
    "name": "ipython",
    "version": 3
   },
   "file_extension": ".py",
   "mimetype": "text/x-python",
   "name": "python",
   "nbconvert_exporter": "python",
   "pygments_lexer": "ipython3",
   "version": "3.7.12"
  },
  "toc": {
   "base_numbering": 1,
   "nav_menu": {},
   "number_sections": false,
   "sideBar": true,
   "skip_h1_title": true,
   "title_cell": "Table of Contents",
   "title_sidebar": "Contents",
   "toc_cell": false,
   "toc_position": {},
   "toc_section_display": true,
   "toc_window_display": false
  }
 },
 "nbformat": 4,
 "nbformat_minor": 2
}
